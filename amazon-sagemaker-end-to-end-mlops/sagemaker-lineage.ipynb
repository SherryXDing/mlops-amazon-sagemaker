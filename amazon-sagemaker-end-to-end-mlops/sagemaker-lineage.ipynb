{
 "cells": [
  {
   "cell_type": "code",
   "execution_count": 2,
   "id": "9d004d44-fc1d-4249-98cb-987401fa04b8",
   "metadata": {},
   "outputs": [],
   "source": [
    "import os\n",
    "import boto3\n",
    "import sagemaker\n",
    "import pprint\n",
    "from botocore.config import Config\n",
    "\n",
    "config = Config(retries={\"max_attempts\": 50, \"mode\": \"adaptive\"})\n",
    "\n",
    "sagemaker_session = sagemaker.Session()\n",
    "sm_client = sagemaker_session.sagemaker_client\n",
    "\n",
    "region = sagemaker_session.boto_region_name\n",
    "\n",
    "default_bucket = sagemaker_session.default_bucket()\n",
    "role = sagemaker.get_execution_role()\n",
    "\n",
    "# Helper function to print query outputs\n",
    "pp = pprint.PrettyPrinter()"
   ]
  },
  {
   "cell_type": "markdown",
   "id": "26446bd9-c62f-488a-a674-ff8aa1d4fc7d",
   "metadata": {},
   "source": [
    "## SageMaker Lineage Queries\n",
    "\n",
    "We explore SageMaker's lineage capabilities to traverse the relationships between the entities created in this notebook - datasets, model, endpoint, and training job.\n"
   ]
  },
  {
   "cell_type": "code",
   "execution_count": 3,
   "id": "904f8852-9243-4ede-9418-60e850002b2b",
   "metadata": {},
   "outputs": [],
   "source": [
    "from sagemaker.lineage.context import Context, EndpointContext\n",
    "from sagemaker.lineage.action import Action\n",
    "from sagemaker.lineage.association import Association\n",
    "from sagemaker.lineage.artifact import Artifact, ModelArtifact, DatasetArtifact\n",
    "\n",
    "from sagemaker.lineage.query import (\n",
    "    LineageQuery,\n",
    "    LineageFilter,\n",
    "    LineageSourceEnum,\n",
    "    LineageEntityEnum,\n",
    "    LineageQueryDirectionEnum,\n",
    ")"
   ]
  },
  {
   "cell_type": "markdown",
   "id": "e88d78a1-a357-49bf-94eb-7cf6e4c5b780",
   "metadata": {},
   "source": [
    "## Using the LineageQuery API to find entity associations\n",
    "\n",
    "In this section we use two APIs, LineageQuery and LineageFilter to construct queries to answer questions about the Lineage Graph and extract entity relationships.\n",
    "\n",
    "LineageQuery parameters:\n",
    "\n",
    "    start_arns: A list of ARNs that is used as the starting point for the query.\n",
    "    direction: The direction of the query.\n",
    "    include_edges: If true, return edges in addition to vertices.\n",
    "    query_filter: The query filter.\n",
    "\n",
    "LineageFilter paramters:\n",
    "\n",
    "    entities: A list of entity types (Artifact, Association, Action) to filter for when returning the results on LineageQuery\n",
    "    sources: A list of source types (Endpoint, Model, Dataset) to filter for when returning the results of LineageQuery\n",
    "\n",
    "A Context is automatically created when a SageMaker Endpoint is created, an Artifact is automatically created when a Model is created in SageMaker.\n"
   ]
  },
  {
   "cell_type": "code",
   "execution_count": 6,
   "id": "77264aa2-0a97-4982-8382-01be4b390011",
   "metadata": {},
   "outputs": [
    {
     "ename": "NameError",
     "evalue": "name 'endpoint_arn' is not defined",
     "output_type": "error",
     "traceback": [
      "\u001b[0;31m---------------------------------------------------------------------------\u001b[0m",
      "\u001b[0;31mNameError\u001b[0m                                 Traceback (most recent call last)",
      "\u001b[0;32m<ipython-input-6-894bc7e0e393>\u001b[0m in \u001b[0;36m<module>\u001b[0;34m\u001b[0m\n\u001b[1;32m      1\u001b[0m \u001b[0;31m# Find the endpoint context and model artifact that should be used for the lineage queries.\u001b[0m\u001b[0;34m\u001b[0m\u001b[0;34m\u001b[0m\u001b[0;34m\u001b[0m\u001b[0m\n\u001b[1;32m      2\u001b[0m \u001b[0;34m\u001b[0m\u001b[0m\n\u001b[0;32m----> 3\u001b[0;31m \u001b[0mcontexts\u001b[0m \u001b[0;34m=\u001b[0m \u001b[0mContext\u001b[0m\u001b[0;34m.\u001b[0m\u001b[0mlist\u001b[0m\u001b[0;34m(\u001b[0m\u001b[0msource_uri\u001b[0m\u001b[0;34m=\u001b[0m\u001b[0mendpoint_arn\u001b[0m\u001b[0;34m)\u001b[0m\u001b[0;34m\u001b[0m\u001b[0;34m\u001b[0m\u001b[0m\n\u001b[0m\u001b[1;32m      4\u001b[0m \u001b[0mcontext_name\u001b[0m \u001b[0;34m=\u001b[0m \u001b[0mlist\u001b[0m\u001b[0;34m(\u001b[0m\u001b[0mcontexts\u001b[0m\u001b[0;34m)\u001b[0m\u001b[0;34m[\u001b[0m\u001b[0;36m0\u001b[0m\u001b[0;34m]\u001b[0m\u001b[0;34m.\u001b[0m\u001b[0mcontext_name\u001b[0m\u001b[0;34m\u001b[0m\u001b[0;34m\u001b[0m\u001b[0m\n\u001b[1;32m      5\u001b[0m \u001b[0mendpoint_context\u001b[0m \u001b[0;34m=\u001b[0m \u001b[0mEndpointContext\u001b[0m\u001b[0;34m.\u001b[0m\u001b[0mload\u001b[0m\u001b[0;34m(\u001b[0m\u001b[0mcontext_name\u001b[0m\u001b[0;34m=\u001b[0m\u001b[0mcontext_name\u001b[0m\u001b[0;34m)\u001b[0m\u001b[0;34m\u001b[0m\u001b[0;34m\u001b[0m\u001b[0m\n",
      "\u001b[0;31mNameError\u001b[0m: name 'endpoint_arn' is not defined"
     ]
    }
   ],
   "source": [
    "# Find the endpoint context and model artifact that should be used for the lineage queries.\n",
    "\n",
    "contexts = Context.list(source_uri=endpoint_arn)\n",
    "context_name = list(contexts)[0].context_name\n",
    "endpoint_context = EndpointContext.load(context_name=context_name)"
   ]
  },
  {
   "cell_type": "markdown",
   "id": "99a1de11-fb18-44c2-93cb-b477209969ee",
   "metadata": {},
   "source": [
    "### Find all datasets associated with an Endpoint"
   ]
  },
  {
   "cell_type": "code",
   "execution_count": 7,
   "id": "bf655806-7043-40e0-8c13-7c684ae34179",
   "metadata": {},
   "outputs": [
    {
     "ename": "NameError",
     "evalue": "name 'endpoint_context' is not defined",
     "output_type": "error",
     "traceback": [
      "\u001b[0;31m---------------------------------------------------------------------------\u001b[0m",
      "\u001b[0;31mNameError\u001b[0m                                 Traceback (most recent call last)",
      "\u001b[0;32m<ipython-input-7-1e930feab8be>\u001b[0m in \u001b[0;36m<module>\u001b[0;34m\u001b[0m\n\u001b[1;32m      9\u001b[0m \u001b[0;34m\u001b[0m\u001b[0m\n\u001b[1;32m     10\u001b[0m query_result = LineageQuery(sagemaker_session).query(\n\u001b[0;32m---> 11\u001b[0;31m     \u001b[0mstart_arns\u001b[0m\u001b[0;34m=\u001b[0m\u001b[0;34m[\u001b[0m\u001b[0mendpoint_context\u001b[0m\u001b[0;34m.\u001b[0m\u001b[0mcontext_arn\u001b[0m\u001b[0;34m]\u001b[0m\u001b[0;34m,\u001b[0m\u001b[0;34m\u001b[0m\u001b[0;34m\u001b[0m\u001b[0m\n\u001b[0m\u001b[1;32m     12\u001b[0m     \u001b[0mquery_filter\u001b[0m\u001b[0;34m=\u001b[0m\u001b[0mquery_filter\u001b[0m\u001b[0;34m,\u001b[0m\u001b[0;34m\u001b[0m\u001b[0;34m\u001b[0m\u001b[0m\n\u001b[1;32m     13\u001b[0m     \u001b[0mdirection\u001b[0m\u001b[0;34m=\u001b[0m\u001b[0mLineageQueryDirectionEnum\u001b[0m\u001b[0;34m.\u001b[0m\u001b[0mASCENDANTS\u001b[0m\u001b[0;34m,\u001b[0m\u001b[0;34m\u001b[0m\u001b[0;34m\u001b[0m\u001b[0m\n",
      "\u001b[0;31mNameError\u001b[0m: name 'endpoint_context' is not defined"
     ]
    }
   ],
   "source": [
    "# Define the LineageFilter to look for entities of type `ARTIFACT` and the source of type `DATASET`.\n",
    "\n",
    "query_filter = LineageFilter(\n",
    "    entities=[LineageEntityEnum.ARTIFACT], sources=[LineageSourceEnum.DATASET]\n",
    ")\n",
    "\n",
    "# Providing this `LineageFilter` to the `LineageQuery` constructs a query that traverses through the given context `endpoint_context`\n",
    "# and find all datasets.\n",
    "\n",
    "query_result = LineageQuery(sagemaker_session).query(\n",
    "    start_arns=[endpoint_context.context_arn],\n",
    "    query_filter=query_filter,\n",
    "    direction=LineageQueryDirectionEnum.ASCENDANTS,\n",
    "    include_edges=False,\n",
    ")\n",
    "\n",
    "# Parse through the query results to get the lineage objects corresponding to the datasets\n",
    "dataset_artifacts = []\n",
    "for vertex in query_result.vertices:\n",
    "    dataset_artifacts.append(vertex.to_lineage_object().source.source_uri)\n",
    "\n",
    "pp.pprint(dataset_artifacts)\n",
    "\n"
   ]
  },
  {
   "cell_type": "markdown",
   "id": "3f818e01-0041-4981-82ab-37922b9a5284",
   "metadata": {},
   "source": [
    "### Find the models associated with an Endpoint"
   ]
  },
  {
   "cell_type": "code",
   "execution_count": 8,
   "id": "5aff36bf-baec-4a94-a845-f0bef3329d63",
   "metadata": {},
   "outputs": [
    {
     "ename": "NameError",
     "evalue": "name 'endpoint_context' is not defined",
     "output_type": "error",
     "traceback": [
      "\u001b[0;31m---------------------------------------------------------------------------\u001b[0m",
      "\u001b[0;31mNameError\u001b[0m                                 Traceback (most recent call last)",
      "\u001b[0;32m<ipython-input-8-fc2b23eb9e65>\u001b[0m in \u001b[0;36m<module>\u001b[0;34m\u001b[0m\n\u001b[1;32m      9\u001b[0m \u001b[0;34m\u001b[0m\u001b[0m\n\u001b[1;32m     10\u001b[0m query_result = LineageQuery(sagemaker_session).query(\n\u001b[0;32m---> 11\u001b[0;31m     \u001b[0mstart_arns\u001b[0m\u001b[0;34m=\u001b[0m\u001b[0;34m[\u001b[0m\u001b[0mendpoint_context\u001b[0m\u001b[0;34m.\u001b[0m\u001b[0mcontext_arn\u001b[0m\u001b[0;34m]\u001b[0m\u001b[0;34m,\u001b[0m\u001b[0;34m\u001b[0m\u001b[0;34m\u001b[0m\u001b[0m\n\u001b[0m\u001b[1;32m     12\u001b[0m     \u001b[0mquery_filter\u001b[0m\u001b[0;34m=\u001b[0m\u001b[0mquery_filter\u001b[0m\u001b[0;34m,\u001b[0m\u001b[0;34m\u001b[0m\u001b[0;34m\u001b[0m\u001b[0m\n\u001b[1;32m     13\u001b[0m     \u001b[0mdirection\u001b[0m\u001b[0;34m=\u001b[0m\u001b[0mLineageQueryDirectionEnum\u001b[0m\u001b[0;34m.\u001b[0m\u001b[0mASCENDANTS\u001b[0m\u001b[0;34m,\u001b[0m\u001b[0;34m\u001b[0m\u001b[0;34m\u001b[0m\u001b[0m\n",
      "\u001b[0;31mNameError\u001b[0m: name 'endpoint_context' is not defined"
     ]
    }
   ],
   "source": [
    "# Define the LineageFilter to look for entities of type `ARTIFACT` and the source of type `MODEL`.\n",
    "\n",
    "query_filter = LineageFilter(\n",
    "    entities=[LineageEntityEnum.ARTIFACT], sources=[LineageSourceEnum.MODEL]\n",
    ")\n",
    "\n",
    "# Providing this `LineageFilter` to the `LineageQuery` constructs a query that traverses through the given context `endpoint_context`\n",
    "# and find all datasets.\n",
    "\n",
    "query_result = LineageQuery(sagemaker_session).query(\n",
    "    start_arns=[endpoint_context.context_arn],\n",
    "    query_filter=query_filter,\n",
    "    direction=LineageQueryDirectionEnum.ASCENDANTS,\n",
    "    include_edges=False,\n",
    ")\n",
    "\n",
    "# Parse through the query results to get the lineage objects corresponding to the model\n",
    "model_artifacts = []\n",
    "for vertex in query_result.vertices:\n",
    "    model_artifacts.append(vertex.to_lineage_object().source.source_uri)\n",
    "\n",
    "# The results of the `LineageQuery` API call return the ARN of the model deployed to the endpoint along with\n",
    "# the S3 URI to the model.tar.gz file associated with the model\n",
    "pp.pprint(model_artifacts)\n",
    "\n"
   ]
  },
  {
   "cell_type": "markdown",
   "id": "39e9ccbd-f83f-4710-85e2-3f031131cfee",
   "metadata": {},
   "source": [
    "### Find the trial components associated with an Endpoint"
   ]
  },
  {
   "cell_type": "code",
   "execution_count": 9,
   "id": "48f7945b-3cc7-4186-8e4e-3ca550deb335",
   "metadata": {},
   "outputs": [
    {
     "ename": "NameError",
     "evalue": "name 'endpoint_context' is not defined",
     "output_type": "error",
     "traceback": [
      "\u001b[0;31m---------------------------------------------------------------------------\u001b[0m",
      "\u001b[0;31mNameError\u001b[0m                                 Traceback (most recent call last)",
      "\u001b[0;32m<ipython-input-9-97277bc32ab8>\u001b[0m in \u001b[0;36m<module>\u001b[0;34m\u001b[0m\n\u001b[1;32m     10\u001b[0m \u001b[0;34m\u001b[0m\u001b[0m\n\u001b[1;32m     11\u001b[0m query_result = LineageQuery(sagemaker_session).query(\n\u001b[0;32m---> 12\u001b[0;31m     \u001b[0mstart_arns\u001b[0m\u001b[0;34m=\u001b[0m\u001b[0;34m[\u001b[0m\u001b[0mendpoint_context\u001b[0m\u001b[0;34m.\u001b[0m\u001b[0mcontext_arn\u001b[0m\u001b[0;34m]\u001b[0m\u001b[0;34m,\u001b[0m\u001b[0;34m\u001b[0m\u001b[0;34m\u001b[0m\u001b[0m\n\u001b[0m\u001b[1;32m     13\u001b[0m     \u001b[0mquery_filter\u001b[0m\u001b[0;34m=\u001b[0m\u001b[0mquery_filter\u001b[0m\u001b[0;34m,\u001b[0m\u001b[0;34m\u001b[0m\u001b[0;34m\u001b[0m\u001b[0m\n\u001b[1;32m     14\u001b[0m     \u001b[0mdirection\u001b[0m\u001b[0;34m=\u001b[0m\u001b[0mLineageQueryDirectionEnum\u001b[0m\u001b[0;34m.\u001b[0m\u001b[0mASCENDANTS\u001b[0m\u001b[0;34m,\u001b[0m\u001b[0;34m\u001b[0m\u001b[0;34m\u001b[0m\u001b[0m\n",
      "\u001b[0;31mNameError\u001b[0m: name 'endpoint_context' is not defined"
     ]
    }
   ],
   "source": [
    "# Define the LineageFilter to look for entities of type `TRIAL_COMPONENT` and the source of type `TRAINING_JOB`.\n",
    "\n",
    "query_filter = LineageFilter(\n",
    "    entities=[LineageEntityEnum.TRIAL_COMPONENT],\n",
    "    sources=[LineageSourceEnum.TRAINING_JOB],\n",
    ")\n",
    "\n",
    "# Providing this `LineageFilter` to the `LineageQuery` constructs a query that traverses through the given context `endpoint_context`\n",
    "# and find all datasets.\n",
    "\n",
    "query_result = LineageQuery(sagemaker_session).query(\n",
    "    start_arns=[endpoint_context.context_arn],\n",
    "    query_filter=query_filter,\n",
    "    direction=LineageQueryDirectionEnum.ASCENDANTS,\n",
    "    include_edges=False,\n",
    ")\n",
    "\n",
    "# Parse through the query results to get the ARNs of the training jobs associated with this Endpoint\n",
    "trial_components = []\n",
    "for vertex in query_result.vertices:\n",
    "    trial_components.append(vertex.arn)\n",
    "\n",
    "pp.pprint(trial_components)\n",
    "\n"
   ]
  },
  {
   "cell_type": "markdown",
   "id": "84443ce0-a4a5-4bf0-a988-17cf7a1faa6f",
   "metadata": {},
   "source": [
    "## Change the focal point of lineage\n",
    "\n",
    "The LineageQuery can be modified to have different start_arns which changes the focal point of lineage. In addition, the LineageFilter can take multiple sources and entities to expand the scope of the query.\n",
    "\n",
    "Here we use the model as the lineage focal point and find the Endpoints and Datasets associated with it.\n"
   ]
  },
  {
   "cell_type": "code",
   "execution_count": 10,
   "id": "eb8177a2-7cf9-4fbb-b8f6-8b449e02bf2e",
   "metadata": {},
   "outputs": [
    {
     "ename": "NameError",
     "evalue": "name 'model_package_arn' is not defined",
     "output_type": "error",
     "traceback": [
      "\u001b[0;31m---------------------------------------------------------------------------\u001b[0m",
      "\u001b[0;31mNameError\u001b[0m                                 Traceback (most recent call last)",
      "\u001b[0;32m<ipython-input-10-9f136d7e0f33>\u001b[0m in \u001b[0;36m<module>\u001b[0;34m\u001b[0m\n\u001b[1;32m      1\u001b[0m \u001b[0;31m# Get the ModelArtifact\u001b[0m\u001b[0;34m\u001b[0m\u001b[0;34m\u001b[0m\u001b[0;34m\u001b[0m\u001b[0m\n\u001b[1;32m      2\u001b[0m \u001b[0;34m\u001b[0m\u001b[0m\n\u001b[0;32m----> 3\u001b[0;31m \u001b[0mmodel_artifact_summary\u001b[0m \u001b[0;34m=\u001b[0m \u001b[0mlist\u001b[0m\u001b[0;34m(\u001b[0m\u001b[0mArtifact\u001b[0m\u001b[0;34m.\u001b[0m\u001b[0mlist\u001b[0m\u001b[0;34m(\u001b[0m\u001b[0msource_uri\u001b[0m\u001b[0;34m=\u001b[0m\u001b[0mmodel_package_arn\u001b[0m\u001b[0;34m)\u001b[0m\u001b[0;34m)\u001b[0m\u001b[0;34m[\u001b[0m\u001b[0;36m0\u001b[0m\u001b[0;34m]\u001b[0m\u001b[0;34m\u001b[0m\u001b[0;34m\u001b[0m\u001b[0m\n\u001b[0m\u001b[1;32m      4\u001b[0m \u001b[0mmodel_artifact\u001b[0m \u001b[0;34m=\u001b[0m \u001b[0mModelArtifact\u001b[0m\u001b[0;34m.\u001b[0m\u001b[0mload\u001b[0m\u001b[0;34m(\u001b[0m\u001b[0martifact_arn\u001b[0m\u001b[0;34m=\u001b[0m\u001b[0mmodel_artifact_summary\u001b[0m\u001b[0;34m.\u001b[0m\u001b[0martifact_arn\u001b[0m\u001b[0;34m)\u001b[0m\u001b[0;34m\u001b[0m\u001b[0;34m\u001b[0m\u001b[0m\n",
      "\u001b[0;31mNameError\u001b[0m: name 'model_package_arn' is not defined"
     ]
    }
   ],
   "source": [
    "# Get the ModelArtifact\n",
    "\n",
    "model_artifact_summary = list(Artifact.list(source_uri=model_package_arn))[0]\n",
    "model_artifact = ModelArtifact.load(artifact_arn=model_artifact_summary.artifact_arn)"
   ]
  },
  {
   "cell_type": "code",
   "execution_count": 11,
   "id": "05b12914-3c41-451b-b2cb-4b1ed274ffd2",
   "metadata": {},
   "outputs": [
    {
     "ename": "NameError",
     "evalue": "name 'model_artifact' is not defined",
     "output_type": "error",
     "traceback": [
      "\u001b[0;31m---------------------------------------------------------------------------\u001b[0m",
      "\u001b[0;31mNameError\u001b[0m                                 Traceback (most recent call last)",
      "\u001b[0;32m<ipython-input-11-244ab0596178>\u001b[0m in \u001b[0;36m<module>\u001b[0;34m\u001b[0m\n\u001b[1;32m      5\u001b[0m \u001b[0;34m\u001b[0m\u001b[0m\n\u001b[1;32m      6\u001b[0m query_result = LineageQuery(sagemaker_session).query(\n\u001b[0;32m----> 7\u001b[0;31m     \u001b[0mstart_arns\u001b[0m\u001b[0;34m=\u001b[0m\u001b[0;34m[\u001b[0m\u001b[0mmodel_artifact\u001b[0m\u001b[0;34m.\u001b[0m\u001b[0martifact_arn\u001b[0m\u001b[0;34m]\u001b[0m\u001b[0;34m,\u001b[0m  \u001b[0;31m# Model is the starting artifact\u001b[0m\u001b[0;34m\u001b[0m\u001b[0;34m\u001b[0m\u001b[0m\n\u001b[0m\u001b[1;32m      8\u001b[0m     \u001b[0mquery_filter\u001b[0m\u001b[0;34m=\u001b[0m\u001b[0mquery_filter\u001b[0m\u001b[0;34m,\u001b[0m\u001b[0;34m\u001b[0m\u001b[0;34m\u001b[0m\u001b[0m\n\u001b[1;32m      9\u001b[0m     \u001b[0;31m# Find all the entities that descend from the model, i.e. the endpoint\u001b[0m\u001b[0;34m\u001b[0m\u001b[0;34m\u001b[0m\u001b[0;34m\u001b[0m\u001b[0m\n",
      "\u001b[0;31mNameError\u001b[0m: name 'model_artifact' is not defined"
     ]
    }
   ],
   "source": [
    "query_filter = LineageFilter(\n",
    "    entities=[LineageEntityEnum.ARTIFACT],\n",
    "    sources=[LineageSourceEnum.ENDPOINT, LineageSourceEnum.DATASET],\n",
    ")\n",
    "\n",
    "query_result = LineageQuery(sagemaker_session).query(\n",
    "    start_arns=[model_artifact.artifact_arn],  # Model is the starting artifact\n",
    "    query_filter=query_filter,\n",
    "    # Find all the entities that descend from the model, i.e. the endpoint\n",
    "    direction=LineageQueryDirectionEnum.DESCENDANTS,\n",
    "    include_edges=False,\n",
    ")\n",
    "\n",
    "associations = []\n",
    "for vertex in query_result.vertices:\n",
    "    associations.append(vertex.to_lineage_object().source.source_uri)\n",
    "\n",
    "query_result = LineageQuery(sagemaker_session).query(\n",
    "    start_arns=[model_artifact.artifact_arn],  # Model is the starting artifact\n",
    "    query_filter=query_filter,\n",
    "    # Find all the entities that ascend from the model, i.e. the datasets\n",
    "    direction=LineageQueryDirectionEnum.ASCENDANTS,\n",
    "    include_edges=False,\n",
    ")\n",
    "\n",
    "for vertex in query_result.vertices:\n",
    "    associations.append(vertex.to_lineage_object().source.source_uri)\n",
    "\n",
    "pp.pprint(associations)"
   ]
  },
  {
   "cell_type": "markdown",
   "id": "6b22a7ea-1b47-46db-a8b1-d2560d9c85b1",
   "metadata": {},
   "source": [
    "## Use LineageQueryDirectionEnum.BOTH\n",
    "\n",
    "When the direction is set to BOTH, when the query traverses the graph to find ascendant and descendant relationships, the traversal takes place not only from the starting node, but from each node that is visited.\n",
    "\n",
    "e.g. If the training job is run twice and both models generated by the training job are deployed to endpoints, this result of the query with direction set to BOTH shows both endpoints. This is because the same image is used for training and deploying the model. Since the image is common to the model (start_arn) and both the endpoints, it appears in the query result.\n"
   ]
  },
  {
   "cell_type": "code",
   "execution_count": 12,
   "id": "0646cd8e-f5e2-41d8-8c0a-af6373b4ff55",
   "metadata": {},
   "outputs": [
    {
     "ename": "NameError",
     "evalue": "name 'model_artifact' is not defined",
     "output_type": "error",
     "traceback": [
      "\u001b[0;31m---------------------------------------------------------------------------\u001b[0m",
      "\u001b[0;31mNameError\u001b[0m                                 Traceback (most recent call last)",
      "\u001b[0;32m<ipython-input-12-837a9967ef62>\u001b[0m in \u001b[0;36m<module>\u001b[0;34m\u001b[0m\n\u001b[1;32m      5\u001b[0m \u001b[0;34m\u001b[0m\u001b[0m\n\u001b[1;32m      6\u001b[0m query_result = LineageQuery(sagemaker_session).query(\n\u001b[0;32m----> 7\u001b[0;31m     \u001b[0mstart_arns\u001b[0m\u001b[0;34m=\u001b[0m\u001b[0;34m[\u001b[0m\u001b[0mmodel_artifact\u001b[0m\u001b[0;34m.\u001b[0m\u001b[0martifact_arn\u001b[0m\u001b[0;34m]\u001b[0m\u001b[0;34m,\u001b[0m  \u001b[0;31m# Model is the starting artifact\u001b[0m\u001b[0;34m\u001b[0m\u001b[0;34m\u001b[0m\u001b[0m\n\u001b[0m\u001b[1;32m      8\u001b[0m     \u001b[0mquery_filter\u001b[0m\u001b[0;34m=\u001b[0m\u001b[0mquery_filter\u001b[0m\u001b[0;34m,\u001b[0m\u001b[0;34m\u001b[0m\u001b[0;34m\u001b[0m\u001b[0m\n\u001b[1;32m      9\u001b[0m     \u001b[0;31m# This specifies that the query should look for associations both ascending and descending for the start\u001b[0m\u001b[0;34m\u001b[0m\u001b[0;34m\u001b[0m\u001b[0;34m\u001b[0m\u001b[0m\n",
      "\u001b[0;31mNameError\u001b[0m: name 'model_artifact' is not defined"
     ]
    }
   ],
   "source": [
    "query_filter = LineageFilter(\n",
    "    entities=[LineageEntityEnum.ARTIFACT],\n",
    "    sources=[LineageSourceEnum.ENDPOINT, LineageSourceEnum.DATASET],\n",
    ")\n",
    "\n",
    "query_result = LineageQuery(sagemaker_session).query(\n",
    "    start_arns=[model_artifact.artifact_arn],  # Model is the starting artifact\n",
    "    query_filter=query_filter,\n",
    "    # This specifies that the query should look for associations both ascending and descending for the start\n",
    "    direction=LineageQueryDirectionEnum.BOTH,\n",
    "    include_edges=False,\n",
    ")\n",
    "\n",
    "associations = []\n",
    "for vertex in query_result.vertices:\n",
    "    associations.append(vertex.to_lineage_object().source.source_uri)\n",
    "\n",
    "pp.pprint(associations)"
   ]
  },
  {
   "cell_type": "markdown",
   "id": "09266cd0-46b0-4cac-854d-f42d8dfb0675",
   "metadata": {},
   "source": [
    "## Directions in LineageQuery: Ascendants vs. Descendants\n",
    "\n",
    "To understand the direction in the Lineage Graph, take the following entity relationship graph - Dataset -> Training Job -> Model -> Endpoint\n",
    "\n",
    "The endpoint is a descendant of the model, and the model is a descendant of the dataset. Similarly, the model is an ascendant of the endpoint The direction parameter can be used to specify whether the query should return entities that are descendants or ascendants of the entity in start_arns. If start_arns contains a model and the direction is DESCENDANTS, the query returns the endpoint. If the direction is ASCENDANTS, the query returns the dataset.\"\n"
   ]
  },
  {
   "cell_type": "code",
   "execution_count": 13,
   "id": "ed3850ad-4436-4302-85bd-f026808866df",
   "metadata": {},
   "outputs": [
    {
     "ename": "NameError",
     "evalue": "name 'model_artifact' is not defined",
     "output_type": "error",
     "traceback": [
      "\u001b[0;31m---------------------------------------------------------------------------\u001b[0m",
      "\u001b[0;31mNameError\u001b[0m                                 Traceback (most recent call last)",
      "\u001b[0;32m<ipython-input-13-d14d19aaf7fd>\u001b[0m in \u001b[0;36m<module>\u001b[0;34m\u001b[0m\n\u001b[1;32m     12\u001b[0m \u001b[0;34m\u001b[0m\u001b[0m\n\u001b[1;32m     13\u001b[0m query_result = LineageQuery(sagemaker_session).query(\n\u001b[0;32m---> 14\u001b[0;31m     \u001b[0mstart_arns\u001b[0m\u001b[0;34m=\u001b[0m\u001b[0;34m[\u001b[0m\u001b[0mmodel_artifact\u001b[0m\u001b[0;34m.\u001b[0m\u001b[0martifact_arn\u001b[0m\u001b[0;34m]\u001b[0m\u001b[0;34m,\u001b[0m\u001b[0;34m\u001b[0m\u001b[0;34m\u001b[0m\u001b[0m\n\u001b[0m\u001b[1;32m     15\u001b[0m     \u001b[0mquery_filter\u001b[0m\u001b[0;34m=\u001b[0m\u001b[0mquery_filter\u001b[0m\u001b[0;34m,\u001b[0m\u001b[0;34m\u001b[0m\u001b[0;34m\u001b[0m\u001b[0m\n\u001b[1;32m     16\u001b[0m     \u001b[0mdirection\u001b[0m\u001b[0;34m=\u001b[0m\u001b[0mLineageQueryDirectionEnum\u001b[0m\u001b[0;34m.\u001b[0m\u001b[0mASCENDANTS\u001b[0m\u001b[0;34m,\u001b[0m\u001b[0;34m\u001b[0m\u001b[0;34m\u001b[0m\u001b[0m\n",
      "\u001b[0;31mNameError\u001b[0m: name 'model_artifact' is not defined"
     ]
    }
   ],
   "source": [
    "# In this example, we'll look at the impact of specifying the direction as ASCENDANT or DESCENDANT in a `LineageQuery`.\n",
    "\n",
    "query_filter = LineageFilter(\n",
    "    entities=[LineageEntityEnum.ARTIFACT],\n",
    "    sources=[\n",
    "        LineageSourceEnum.ENDPOINT,\n",
    "        LineageSourceEnum.MODEL,\n",
    "        LineageSourceEnum.DATASET,\n",
    "        LineageSourceEnum.TRAINING_JOB,\n",
    "    ],\n",
    ")\n",
    "\n",
    "query_result = LineageQuery(sagemaker_session).query(\n",
    "    start_arns=[model_artifact.artifact_arn],\n",
    "    query_filter=query_filter,\n",
    "    direction=LineageQueryDirectionEnum.ASCENDANTS,\n",
    "    include_edges=False,\n",
    ")\n",
    "\n",
    "ascendant_artifacts = []\n",
    "\n",
    "# The lineage entity returned for the Training Job is a TrialComponent which can't be converted to a\n",
    "# lineage object using the method `to_lineage_object()` so we extract the TrialComponent ARN.\n",
    "for vertex in query_result.vertices:\n",
    "    try:\n",
    "        ascendant_artifacts.append(vertex.to_lineage_object().source.source_uri)\n",
    "    except:\n",
    "        ascendant_artifacts.append(vertex.arn)\n",
    "\n",
    "print(\"Ascendant artifacts:\")\n",
    "pp.pprint(ascendant_artifacts)\n",
    "\n",
    "query_result = LineageQuery(sagemaker_session).query(\n",
    "    start_arns=[model_artifact.artifact_arn],\n",
    "    query_filter=query_filter,\n",
    "    direction=LineageQueryDirectionEnum.DESCENDANTS,\n",
    "    include_edges=False,\n",
    ")\n",
    "\n",
    "descendant_artifacts = []\n",
    "for vertex in query_result.vertices:\n",
    "    try:\n",
    "        descendant_artifacts.append(vertex.to_lineage_object().source.source_uri)\n",
    "    except:\n",
    "        # Handling TrialComponents.\n",
    "        descendant_artifacts.append(vertex.arn)\n",
    "\n",
    "print(\"Descendant artifacts:\")\n",
    "pp.pprint(descendant_artifacts)"
   ]
  },
  {
   "cell_type": "code",
   "execution_count": null,
   "id": "d9b17bf3-4cbe-4464-8db7-0f556cb94f5e",
   "metadata": {},
   "outputs": [],
   "source": []
  }
 ],
 "metadata": {
  "instance_type": "ml.t3.medium",
  "kernelspec": {
   "display_name": "Python 3 (Data Science)",
   "language": "python",
   "name": "python3__SAGEMAKER_INTERNAL__arn:aws:sagemaker:us-east-2:429704687514:image/datascience-1.0"
  },
  "language_info": {
   "codemirror_mode": {
    "name": "ipython",
    "version": 3
   },
   "file_extension": ".py",
   "mimetype": "text/x-python",
   "name": "python",
   "nbconvert_exporter": "python",
   "pygments_lexer": "ipython3",
   "version": "3.7.10"
  }
 },
 "nbformat": 4,
 "nbformat_minor": 5
}
