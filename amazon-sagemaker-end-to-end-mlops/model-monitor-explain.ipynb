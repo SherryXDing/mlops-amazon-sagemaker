{
 "cells": [
  {
   "cell_type": "markdown",
   "id": "90ee35be-13a5-4d18-b99d-5815953b14e2",
   "metadata": {},
   "source": [
    "# Amazon SageMaker Model Monitoring and Clarify Explainability"
   ]
  },
  {
   "cell_type": "markdown",
   "id": "e6bcbd0b-92f2-4e04-bcb9-ffe119fdfad6",
   "metadata": {},
   "source": [
    "SageMaker contains several integrated services to monitor models for data and model quality, bias, and explainability."
   ]
  },
  {
   "cell_type": "markdown",
   "id": "3a24d89d-d03a-46b3-98e1-24fb48cec136",
   "metadata": {},
   "source": [
    "In this lab, you will learn how to:\n",
    "  * Capture inference requests, results, and metadata from our pipeline deployed model.\n",
    "  * Schedule a Clarify default monitor to monitor for data drift on a regular schedule.\n",
    "  * Schedule a Clarify model monitor to monitor model performance on a regular schedule.\n",
    "  * Schedule a Clarify bias monitor to monitor predictions for bias drift on a regular schedule.\n",
    "  * Schedule Clarify explainability monitor to monitor predictions for feature attribution drift on a regular schedule."
   ]
  },
  {
   "cell_type": "markdown",
   "id": "0c9962c2-798a-40ba-9ff1-90478ac60ec0",
   "metadata": {
    "tags": []
   },
   "source": [
    "## Setup"
   ]
  },
  {
   "cell_type": "code",
   "execution_count": null,
   "id": "7ba9df8c-7ae3-48b6-9dee-534298c37399",
   "metadata": {},
   "outputs": [],
   "source": [
    "!pip install -U sagemaker==2.101.1"
   ]
  },
  {
   "cell_type": "code",
   "execution_count": 2,
   "id": "ed43d6e7-b325-4e9b-b8a2-682ee9c8073d",
   "metadata": {},
   "outputs": [],
   "source": [
    "from datetime import datetime, timedelta\n",
    "import pandas as pd\n",
    "import time\n",
    "import csv\n",
    "import json\n",
    "import boto3\n",
    "import sagemaker\n",
    "\n",
    "region = boto3.Session().region_name\n",
    "sagemaker_session = sagemaker.session.Session()\n",
    "role = sagemaker.get_execution_role()\n",
    "default_bucket = sagemaker_session.default_bucket()\n",
    "\n",
    "sagemaker_client = sagemaker_session.sagemaker_client\n",
    "sagemaker_runtime_client = sagemaker_session.sagemaker_runtime_client\n",
    "\n",
    "from sagemaker.predictor import Predictor\n",
    "from sagemaker.serializers import CSVSerializer\n",
    "\n",
    "from sagemaker.clarify import (\n",
    "    BiasConfig,\n",
    "    DataConfig,\n",
    "    ModelConfig,\n",
    "    ModelPredictedLabelConfig,\n",
    "    SHAPConfig,\n",
    ")\n",
    "\n",
    "from sagemaker.model_monitor import (\n",
    "    BiasAnalysisConfig,\n",
    "    CronExpressionGenerator,\n",
    "    DataCaptureConfig,\n",
    "    EndpointInput,\n",
    "    ExplainabilityAnalysisConfig,\n",
    "    ModelBiasMonitor,\n",
    "    ModelExplainabilityMonitor,\n",
    "    DefaultModelMonitor,\n",
    "    ModelQualityMonitor,\n",
    ")\n",
    "\n",
    "from sagemaker.model_monitor.dataset_format import DatasetFormat\n",
    "\n",
    "from sagemaker.s3 import S3Downloader, S3Uploader"
   ]
  },
  {
   "cell_type": "code",
   "execution_count": 3,
   "id": "c8431fa4-be19-4c75-b036-de787bb0e82d",
   "metadata": {},
   "outputs": [
    {
     "name": "stdout",
     "output_type": "stream",
     "text": [
      "AWS region: us-east-1\n",
      "S3 Bucket: sagemaker-us-east-1-836443424694\n",
      "Endpoint: workshop-project-prod\n",
      "S3 key: s3://sagemaker-us-east-1-836443424694/sagemaker/xgboost-dm-model-monitoring\n",
      "Capture path: s3://sagemaker-us-east-1-836443424694/sagemaker/xgboost-dm-model-monitoring/data_capture\n",
      "Ground truth path: s3://sagemaker-us-east-1-836443424694/sagemaker/xgboost-dm-model-monitoring/ground_truth_data/2022-08-30-18-20-30\n",
      "Baselines path: s3://sagemaker-us-east-1-836443424694/sagemaker/xgboost-dm-model-monitoring/baselines\n",
      "Report path: s3://sagemaker-us-east-1-836443424694/sagemaker/xgboost-dm-model-monitoring/reports\n"
     ]
    }
   ],
   "source": [
    "print(f\"AWS region: {region}\")\n",
    "# A different bucket can be used, but make sure the role for this notebook has\n",
    "# the s3:PutObject permissions. This is the bucket into which the data is captured.\n",
    "print(f\"S3 Bucket: {default_bucket}\")\n",
    "\n",
    "# Endpoint metadata.\n",
    "endpoint_name = \"workshop-project-prod\"\n",
    "endpoint_instance_count = 1\n",
    "endpoint_instance_type = \"ml.m5.large\"\n",
    "print(f\"Endpoint: {endpoint_name}\")\n",
    "\n",
    "prefix = \"sagemaker/xgboost-dm-model-monitoring\"\n",
    "s3_key = f\"s3://{default_bucket}/{prefix}\"\n",
    "print(f\"S3 key: {s3_key}\")\n",
    "\n",
    "s3_capture_upload_path = f\"{s3_key}/data_capture\"\n",
    "s3_ground_truth_upload_path = f\"{s3_key}/ground_truth_data/{datetime.now():%Y-%m-%d-%H-%M-%S}\"\n",
    "s3_baseline_results_path = f\"{s3_key}/baselines\"\n",
    "s3_report_path = f\"{s3_key}/reports\"\n",
    "\n",
    "print(f\"Capture path: {s3_capture_upload_path}\")\n",
    "print(f\"Ground truth path: {s3_ground_truth_upload_path}\")\n",
    "print(f\"Baselines path: {s3_baseline_results_path}\")\n",
    "print(f\"Report path: {s3_report_path}\")"
   ]
  },
  {
   "cell_type": "markdown",
   "id": "f37712ab-96ff-4e54-b25e-0f1f679aa1b2",
   "metadata": {
    "tags": []
   },
   "source": [
    "## Configure data capture and generate synthetic traffic"
   ]
  },
  {
   "cell_type": "markdown",
   "id": "7f7a2ae8-2783-4bbb-b902-f27bda0c685d",
   "metadata": {},
   "source": [
    "Data quality monitoring automatically monitors machine learning (ML) models in production and notifies you when data quality issues arise. ML models in production have to make predictions on real-life data that is not carefully curated like most training datasets. If the statistical nature of the data that your model receives while in production drifts away from the nature of the baseline data it was trained on, the model begins to lose accuracy in its predictions. Amazon SageMaker Model Monitor uses rules to detect data drift and alerts you when it happens."
   ]
  },
  {
   "cell_type": "markdown",
   "id": "4e81db7c-c3bd-4f12-8bbd-049156987f07",
   "metadata": {},
   "source": [
    "### Initialize SageMaker Predictor for real-time requests to previously deployed model endpoint"
   ]
  },
  {
   "cell_type": "code",
   "execution_count": 4,
   "id": "1ba425c8-2795-4684-b118-3092a2571829",
   "metadata": {},
   "outputs": [],
   "source": [
    "# Create a Predictor Python object for real-time endpoint requests. https://sagemaker.readthedocs.io/en/stable/api/inference/predictors.html\n",
    "predictor = Predictor(endpoint_name=endpoint_name, serializer=CSVSerializer())"
   ]
  },
  {
   "cell_type": "code",
   "execution_count": 5,
   "id": "5df0a0e9-c655-4e40-a785-5f242613c6fa",
   "metadata": {},
   "outputs": [],
   "source": [
    "# SageMaker automatically created a DataCaptureConfig when your model was deployed to an endpoint \n",
    "# in a prior lab that already had data capture enabled. Below is illustrating how create a custom \n",
    "# DataCaptureConfig with data capture enabled and update an existing endpoint.\n",
    "data_capture_config = DataCaptureConfig(\n",
    "    enable_capture=True,\n",
    "    sampling_percentage=100,\n",
    "    destination_s3_uri=s3_capture_upload_path,\n",
    ")"
   ]
  },
  {
   "cell_type": "code",
   "execution_count": 6,
   "id": "5a82a002-0921-4c70-a84f-ed43416774ea",
   "metadata": {},
   "outputs": [
    {
     "name": "stdout",
     "output_type": "stream",
     "text": [
      "---------------!"
     ]
    }
   ],
   "source": [
    "# Now update endpoint with data capture enabled and provide an s3_capture_upload_path.\n",
    "predictor.update_data_capture_config(data_capture_config)"
   ]
  },
  {
   "cell_type": "markdown",
   "id": "1bc6be1f-806e-42e0-b678-acf302e27f88",
   "metadata": {},
   "source": [
    "Note: updating your endpoint data config can take 3-5 min. A progress bar will be displayed in the cell above and indicates completion with `---------------!` and the cell execution number. You will see your endpoint status as `Updating` under SageMaker resources > Endpoints while this is in progress and `InService` when your updated endpoint is ready for requests."
   ]
  },
  {
   "cell_type": "markdown",
   "id": "033abc83-4ba8-452b-8fda-be9f8b7ed85b",
   "metadata": {},
   "source": [
    "### Invoke the deployed model endpoint to generate predictions"
   ]
  },
  {
   "cell_type": "markdown",
   "id": "68a33f51-1cd6-4252-8ba3-69309b7ce687",
   "metadata": {},
   "source": [
    "Now send data to this endpoint to get inferences in real time. \n",
    "\n",
    "With data capture enabled in the previous step, the request and response payload, along with some additional metadata, is saved to the S3 location specified in `DataCaptureConfig`."
   ]
  },
  {
   "cell_type": "code",
   "execution_count": 98,
   "id": "99031ab0-9386-4d14-9ee1-06d8877734c2",
   "metadata": {},
   "outputs": [],
   "source": [
    "# Read in training set for schema and to compute feature attribution baselines.\n",
    "train_df = pd.read_csv(\"train-headers.csv\")"
   ]
  },
  {
   "cell_type": "code",
   "execution_count": 99,
   "id": "7eedfeb8-8721-4887-9c94-dde6d0b25ad2",
   "metadata": {},
   "outputs": [],
   "source": [
    "# Use test set to create a file without headers and labels to mirror data format at inference time.\n",
    "test_df = pd.read_csv(\"test.csv\")\n",
    "test_df.drop(['y_no', 'y_yes'], axis=1).sample(180).to_csv(\"test-samples-no-header.csv\", header=False)"
   ]
  },
  {
   "cell_type": "markdown",
   "id": "fd35fef4-9120-473d-b2bf-ea08994325a7",
   "metadata": {},
   "source": [
    "Now send a test batch of 180 requests to the model endpoint. These inputs will be captured along with endpoint output predictions and sent to your `s3_capture_upload_path`."
   ]
  },
  {
   "cell_type": "code",
   "execution_count": 102,
   "id": "172d7dea-20dd-49f0-8cee-a55b515743dd",
   "metadata": {},
   "outputs": [
    {
     "name": "stdout",
     "output_type": "stream",
     "text": [
      "Sending test traffic to the endpoint workshop-project-prod. \n",
      "Please wait...\n",
      "Done!\n"
     ]
    }
   ],
   "source": [
    "print(\"Sending test traffic to the endpoint {}. \\nPlease wait...\".format(endpoint_name))\n",
    "\n",
    "test_sample_df = pd.read_csv(\"test-samples-no-header.csv\")\n",
    "\n",
    "response = predictor.predict(data=test_sample_df.to_numpy())\n",
    "\n",
    "print(\"Done!\")"
   ]
  },
  {
   "cell_type": "markdown",
   "id": "f4736581-83f3-4b06-8879-b4a4e383e068",
   "metadata": {},
   "source": [
    "### View captured data"
   ]
  },
  {
   "cell_type": "markdown",
   "id": "829f3bbb-c4f6-4691-a3a5-9a2dcf3ba4ff",
   "metadata": {},
   "source": [
    "List the data capture files stored in Amazon S3. \n",
    "\n",
    "There should be different files from different time periods organized in S3 based on the hour in which the invocation occurred in the format: \n",
    "\n",
    "`s3://{destination-bucket-prefix}/{endpoint-name}/{AllTraffic or model-variant-name}/yyyy/mm/dd/hh/filename.jsonl`"
   ]
  },
  {
   "cell_type": "code",
   "execution_count": 103,
   "id": "f5c787a9-9286-4e0d-ac55-a90a2724030b",
   "metadata": {},
   "outputs": [
    {
     "name": "stdout",
     "output_type": "stream",
     "text": [
      "Waiting 60 seconds for captures to show up\n",
      "Found Capture Files:\n",
      "s3://sagemaker-us-east-1-836443424694/sagemaker/xgboost-dm-model-monitoring/data_capture/workshop-project-prod/AllTraffic/2022/09/01/02/05-10-177-2066556b-df6c-456f-af61-271c056ee2e7.jsonl\n",
      " s3://sagemaker-us-east-1-836443424694/sagemaker/xgboost-dm-model-monitoring/data_capture/workshop-project-prod/AllTraffic/2022/09/01/02/06-10-734-c7554c6e-5593-4831-86c9-09e195857583.jsonl\n",
      " s3://sagemaker-us-east-1-836443424694/sagemaker/xgboost-dm-model-monitoring/data_capture/workshop-project-prod/AllTraffic/2022/09/01/02/07-11-347-99716d93-1552-47de-94d9-5a91edacdaef.jsonl\n",
      " s3://sagemaker-us-east-1-836443424694/sagemaker/xgboost-dm-model-monitoring/data_capture/workshop-project-prod/AllTraffic/2022/09/01/02/08-11-979-4f7b63f3-4384-4a0b-bb76-75f907130b0a.jsonl\n",
      " s3://sagemaker-us-east-1-836443424694/sagemaker/xgboost-dm-model-monitoring/data_capture/workshop-project-prod/AllTraffic/2022/09/01/02/09-12-543-5b2f079b-ac87-4533-8e89-e431d70a33e9.jsonl\n",
      " s3://sagemaker-us-east-1-836443424694/sagemaker/xgboost-dm-model-monitoring/data_capture/workshop-project-prod/AllTraffic/2022/09/01/02/10-13-156-084261dd-167e-491e-9f00-8d555bc9c64d.jsonl\n",
      " s3://sagemaker-us-east-1-836443424694/sagemaker/xgboost-dm-model-monitoring/data_capture/workshop-project-prod/AllTraffic/2022/09/01/02/11-13-733-2f878ce1-73a4-44ee-8e2b-7d85325e4bed.jsonl\n",
      " s3://sagemaker-us-east-1-836443424694/sagemaker/xgboost-dm-model-monitoring/data_capture/workshop-project-prod/AllTraffic/2022/09/01/02/12-14-389-0368c8cf-f63b-4857-9c95-f972a872a53a.jsonl\n",
      " s3://sagemaker-us-east-1-836443424694/sagemaker/xgboost-dm-model-monitoring/data_capture/workshop-project-prod/AllTraffic/2022/09/01/02/13-14-974-e33466d3-6a13-41f3-bb9a-4cdda7ab2097.jsonl\n",
      " s3://sagemaker-us-east-1-836443424694/sagemaker/xgboost-dm-model-monitoring/data_capture/workshop-project-prod/AllTraffic/2022/09/01/02/14-15-562-cf6bc27f-eaee-4bf9-951c-885efef4c5b8.jsonl\n"
     ]
    }
   ],
   "source": [
    "print(\"Waiting 60 seconds for captures to show up\", end=\"\")\n",
    "\n",
    "for _ in range(60):\n",
    "    capture_files = sorted(S3Downloader.list(f\"{s3_capture_upload_path}/{endpoint_name}\"))\n",
    "    if capture_files:\n",
    "        break\n",
    "    print(\".\", end=\"\", flush=True)\n",
    "    time.sleep(1)\n",
    "\n",
    "print(\"\\nFound Capture Files:\")\n",
    "print(\"\\n \".join(capture_files[-10:]))"
   ]
  },
  {
   "cell_type": "markdown",
   "id": "a49645e5-87c5-4f23-8014-7ec66cd79037",
   "metadata": {},
   "source": [
    "Next, view the content of a single capture file, looking at the first few lines in the captured file."
   ]
  },
  {
   "cell_type": "code",
   "execution_count": 104,
   "id": "bd3c91e2-6a5b-41ee-8fc1-9f687bb33967",
   "metadata": {},
   "outputs": [
    {
     "name": "stdout",
     "output_type": "stream",
     "text": [
      "{\"captureData\":{\"endpointInput\":{\"observedContentType\":\"text/csv\",\"mode\":\"INPUT\",\"data\":\"23,51,1,999,0,1,0,1.0,0.0,0.0,0.0,0.0,0.0,0.0,0.0,0.0,0.0,0.0,0.0,1,0,0,0,0,0,0,0,0,0,1,0,1,0,0,1,0,0,1,0,0,1,0,0,0,0,0,0,0,1,0,0,0,0,0,0,1,0,0,1,0\",\"encoding\":\"CSV\"},\"endpointOutput\":{\"observedContentType\":\"text/csv; charset=utf-8\",\"mode\":\"OUTPUT\",\"data\":\"0.004452417138963938\",\"encoding\":\"CSV\"}},\"eventMetadata\":{\"eventId\":\"1aa377fb-a3c6-4e54-8d7c-79361eec2d2a\",\"inferenceId\":\"163\",\"inferenceTime\":\"2022-09-01T02:15:04Z\"},\"eventVersion\":\"0\"}\n"
     ]
    }
   ],
   "source": [
    "capture_file = S3Downloader.read_file(capture_files[-1]).split(\"\\n\")[-10:-1]\n",
    "print(capture_file[-1])"
   ]
  },
  {
   "cell_type": "markdown",
   "id": "6cc467c9-1e05-4831-96c2-813024d5030c",
   "metadata": {},
   "source": [
    "View a single line is present below in a formatted JSON file."
   ]
  },
  {
   "cell_type": "code",
   "execution_count": 105,
   "id": "25f10855-e266-4cc4-a4e3-43ce4829eeb2",
   "metadata": {},
   "outputs": [
    {
     "name": "stdout",
     "output_type": "stream",
     "text": [
      "{\n",
      "  \"captureData\": {\n",
      "    \"endpointInput\": {\n",
      "      \"observedContentType\": \"text/csv\",\n",
      "      \"mode\": \"INPUT\",\n",
      "      \"data\": \"23,51,1,999,0,1,0,1.0,0.0,0.0,0.0,0.0,0.0,0.0,0.0,0.0,0.0,0.0,0.0,1,0,0,0,0,0,0,0,0,0,1,0,1,0,0,1,0,0,1,0,0,1,0,0,0,0,0,0,0,1,0,0,0,0,0,0,1,0,0,1,0\",\n",
      "      \"encoding\": \"CSV\"\n",
      "    },\n",
      "    \"endpointOutput\": {\n",
      "      \"observedContentType\": \"text/csv; charset=utf-8\",\n",
      "      \"mode\": \"OUTPUT\",\n",
      "      \"data\": \"0.004452417138963938\",\n",
      "      \"encoding\": \"CSV\"\n",
      "    }\n",
      "  },\n",
      "  \"eventMetadata\": {\n",
      "    \"eventId\": \"1aa377fb-a3c6-4e54-8d7c-79361eec2d2a\",\n",
      "    \"inferenceId\": \"163\",\n",
      "    \"inferenceTime\": \"2022-09-01T02:15:04Z\"\n",
      "  },\n",
      "  \"eventVersion\": \"0\"\n",
      "}\n"
     ]
    }
   ],
   "source": [
    "print(json.dumps(json.loads(capture_file[-1]), indent=2))"
   ]
  },
  {
   "cell_type": "markdown",
   "id": "24bab0d7-dbf0-4487-bd69-07c52b60bc00",
   "metadata": {},
   "source": [
    "### Generate synthetic traffic"
   ]
  },
  {
   "cell_type": "markdown",
   "id": "db3b91f0-cad0-4978-a399-09beb1623321",
   "metadata": {},
   "source": [
    "In order to review SageMaker's continuous monitoring capabilities, you will start a thread to generate synthetic traffic to send to the deployed model endpoint. \n",
    "\n",
    "The `WorkerThread` class will run continuously on the notebook kernel to generate predictions that are captured and sent to S3 until the kernel is restarted or the thread is explicitly terminated. \n",
    "\n",
    "See the cell in the `Cleanup` section to terminate the threads.\n",
    "\n",
    "If there is no traffic, the monitoring jobs are marked as `Failed` since there is no data to process."
   ]
  },
  {
   "cell_type": "markdown",
   "id": "3e2e21d4-b502-4583-9cd1-43b1019dba3a",
   "metadata": {},
   "source": [
    "This cell extends a Python Thread class to be able to able to terminate the thread later on without terminating the notebook kernel."
   ]
  },
  {
   "cell_type": "code",
   "execution_count": 16,
   "id": "3f4d6d16-54f8-48d9-885f-406066c4cadb",
   "metadata": {},
   "outputs": [],
   "source": [
    "import threading\n",
    "\n",
    "class WorkerThread(threading.Thread):\n",
    "    def __init__(self, do_run, *args, **kwargs):\n",
    "        super(WorkerThread, self).__init__(*args, **kwargs)\n",
    "        self.__do_run = do_run\n",
    "        self.__terminate_event = threading.Event()\n",
    "\n",
    "    def terminate(self):\n",
    "        self.__terminate_event.set()\n",
    "\n",
    "    def run(self):\n",
    "        while not self.__terminate_event.is_set():\n",
    "            self.__do_run(self.__terminate_event)"
   ]
  },
  {
   "cell_type": "markdown",
   "id": "4caa035b-de44-4938-b47a-b26ad73b22ce",
   "metadata": {},
   "source": [
    "Now you define a function that your thread will invoke continuously to send test samples to the model endpoint."
   ]
  },
  {
   "cell_type": "code",
   "execution_count": 17,
   "id": "7adeb982-4d2a-4e80-b039-02742636fcc2",
   "metadata": {},
   "outputs": [],
   "source": [
    "def invoke_endpoint(terminate_event):\n",
    "    with open(\"test-samples-no-header.csv\", \"r\") as f:\n",
    "        i = 0\n",
    "        for row in f:\n",
    "            payload = row.rstrip(\"\\n\")\n",
    "            response = sagemaker_runtime_client.invoke_endpoint(\n",
    "                EndpointName=endpoint_name,\n",
    "                ContentType=\"text/csv\",\n",
    "                Body=payload,\n",
    "                InferenceId=str(i),  # unique ID per row\n",
    "            )\n",
    "            i += 1\n",
    "            response[\"Body\"].read()\n",
    "            time.sleep(1)\n",
    "            if terminate_event.is_set():\n",
    "                break\n",
    "\n",
    "\n",
    "# Keep invoking the endpoint with test data\n",
    "invoke_endpoint_thread = WorkerThread(do_run=invoke_endpoint)\n",
    "invoke_endpoint_thread.start()"
   ]
  },
  {
   "cell_type": "markdown",
   "id": "de516b86-2c31-43c7-ab8b-4c841068d2d9",
   "metadata": {
    "tags": []
   },
   "source": [
    "### Generate synthetic ground truth data"
   ]
  },
  {
   "cell_type": "markdown",
   "id": "40f8e930-d131-4034-9eae-89a6bc4e2308",
   "metadata": {},
   "source": [
    "Besides data capture, model bias monitoring execution also requires ground truth data.\n",
    "\n",
    "In real use cases, ground truth data should be regularly collected and uploaded to designated S3 location. \n",
    "\n",
    "The code block below is used to generate fake ground truth data. The first-party merge container will combine captured and ground truth data, and the merged data will be passed to the model bias monitoring job for analysis. Similar to data capture, the model bias monitoring execution will fail if there's no data to merge."
   ]
  },
  {
   "cell_type": "code",
   "execution_count": 18,
   "id": "ea3ec848-384a-4bed-8191-16aa373a7a3f",
   "metadata": {},
   "outputs": [],
   "source": [
    "import random\n",
    "\n",
    "def ground_truth_with_id(inference_id):\n",
    "    # set random seed to get consistent results.\n",
    "    random.seed(inference_id) \n",
    "    rand = random.random()\n",
    "    # format required by the merge container.\n",
    "    return {\n",
    "        \"groundTruthData\": {\n",
    "            # randomly generate positive labels 70% of the time.\n",
    "            \"data\": \"1\" if rand < 0.7 else \"0\",\n",
    "            \"encoding\": \"CSV\",\n",
    "        },\n",
    "        \"eventMetadata\": {\n",
    "            \"eventId\": str(inference_id),\n",
    "        },\n",
    "        \"eventVersion\": \"0\",\n",
    "    }\n",
    "\n",
    "\n",
    "def upload_ground_truth(upload_time):\n",
    "    # 180 are the number of rows in data we're sending for inference.\n",
    "    records = [ground_truth_with_id(i) for i in range(180)]\n",
    "    fake_records = [json.dumps(r) for r in records]\n",
    "    data_to_upload = \"\\n\".join(fake_records)\n",
    "    target_s3_uri = f\"{s3_ground_truth_upload_path}/{upload_time:%Y/%m/%d/%H/%M%S}.jsonl\"\n",
    "    print(f\"Uploading {len(fake_records)} records to\", target_s3_uri)\n",
    "    S3Uploader.upload_string_as_file_body(data_to_upload, target_s3_uri)"
   ]
  },
  {
   "cell_type": "code",
   "execution_count": 19,
   "id": "8f47bd01-ddec-44af-aab2-da0a8eae9d13",
   "metadata": {},
   "outputs": [
    {
     "name": "stdout",
     "output_type": "stream",
     "text": [
      "Uploading 180 records to s3://sagemaker-us-east-1-836443424694/sagemaker/xgboost-dm-model-monitoring/ground_truth_data/2022-08-30-18-20-30/2022/08/30/18/1435.jsonl\n"
     ]
    }
   ],
   "source": [
    "# Generate data for the last hour.\n",
    "upload_ground_truth(datetime.utcnow() - timedelta(hours=1))"
   ]
  },
  {
   "cell_type": "code",
   "execution_count": 20,
   "id": "3e316390-0166-4faa-9076-40f91097812f",
   "metadata": {},
   "outputs": [
    {
     "name": "stdout",
     "output_type": "stream",
     "text": [
      "Uploading 180 records to s3://sagemaker-us-east-1-836443424694/sagemaker/xgboost-dm-model-monitoring/ground_truth_data/2022-08-30-18-20-30/2022/08/30/19/1438.jsonl\n"
     ]
    }
   ],
   "source": [
    "# You can also use the WorkerThread class to continue generating synthetic ground truth data once an hour.\n",
    "def generate_fake_ground_truth(terminate_event):\n",
    "    upload_ground_truth(datetime.utcnow())\n",
    "    for _ in range(0, 60):\n",
    "        time.sleep(60)\n",
    "        if terminate_event.is_set():\n",
    "            break\n",
    "\n",
    "\n",
    "ground_truth_thread = WorkerThread(do_run=generate_fake_ground_truth)\n",
    "ground_truth_thread.start()"
   ]
  },
  {
   "cell_type": "markdown",
   "id": "c17a11a4-360f-48d2-a904-0019a55692f6",
   "metadata": {
    "tags": []
   },
   "source": [
    "## Monitor data quality"
   ]
  },
  {
   "cell_type": "markdown",
   "id": "59856d9a-fda5-454f-b83c-c1bce4d1fcb3",
   "metadata": {},
   "source": [
    "Data quality monitoring automatically monitors machine learning (ML) models in production and notifies you when data quality issues arise. ML models in production have to make predictions on real-life data that is not carefully curated like most training datasets. If the statistical nature of the data that your model receives while in production drifts away from the nature of the baseline data it was trained on, the model begins to lose accuracy in its predictions. Amazon SageMaker Model Monitor uses rules to detect data drift and alerts you when it happens."
   ]
  },
  {
   "cell_type": "markdown",
   "id": "1aa0ca84-b286-4e0d-8e08-a282b552ec78",
   "metadata": {
    "tags": []
   },
   "source": [
    "### Configure `DefaultModelMonitor` for detecting data drift."
   ]
  },
  {
   "cell_type": "code",
   "execution_count": 21,
   "id": "98734c58-07a6-4321-9438-39da26e155dc",
   "metadata": {},
   "outputs": [],
   "source": [
    "data_quality_monitor = DefaultModelMonitor(\n",
    "    role=role,\n",
    "    instance_count=1,\n",
    "    instance_type='ml.m5.xlarge',\n",
    "    volume_size_in_gb=20,\n",
    "    max_runtime_in_seconds=3600,\n",
    ")"
   ]
  },
  {
   "cell_type": "markdown",
   "id": "39591db3-e615-4fb7-8df2-65890a2cdf7d",
   "metadata": {},
   "source": [
    "\n",
    "\n",
    "SageMaker Model Monitor provides a built-in container that provides the ability to suggest the constraints automatically for CSV and flat JSON input. This sagemaker-model-monitor-analyzer container also provides you with a range of model monitoring capabilities, including constraint validation against a baseline, and emitting Amazon CloudWatch metrics. This container is based on Spark and is built with [Deequ \"unit tests for data\"](https://github.com/awslabs/deequ). All column names in your baseline dataset must be compliant with Spark. For column names, use only lowercase characters, and `_` as the only special character.\n",
    "\n",
    "The training dataset that you used to trained the model is usually a good baseline dataset. The training dataset data schema and the inference dataset schema should exactly match (the number and order of the features). Note that the prediction/output columns are assumed to be the first columns in the training dataset. From the training dataset, you can ask SageMaker to suggest a set of baseline constraints and generate descriptive statistics to explore the data."
   ]
  },
  {
   "cell_type": "markdown",
   "id": "ab69b508-37ae-49e9-b647-4db92df2fabe",
   "metadata": {},
   "source": [
    "### Run data quality baseline job"
   ]
  },
  {
   "cell_type": "markdown",
   "id": "a12c26e8-b849-4942-b411-379327cdbfe0",
   "metadata": {},
   "source": [
    "Start a data quality baseline processing job with `DefaultModelMonitor.suggest_baseline(..)` using the Amazon SageMaker Python SDK. This uses an Amazon SageMaker Model Monitor prebuilt container that generates baseline statistics and suggests baseline constraints for the dataset and writes them to the `output_s3_uri` location that you specify.\n",
    "\n",
    "The baseline calculations of statistics and constraints are needed as a standard against which data drift and other data quality issues can be detected."
   ]
  },
  {
   "cell_type": "markdown",
   "id": "bbb82344-e8e0-442e-a3cc-c0f5354ded29",
   "metadata": {},
   "source": [
    "Note: the baseline job will take about 5 min. If the log suppression does not work below, you can clear the cell output with `Edit > Clear Output`."
   ]
  },
  {
   "cell_type": "code",
   "execution_count": null,
   "id": "8341468d-a74a-4a98-b70e-36353a589fe5",
   "metadata": {},
   "outputs": [],
   "source": [
    "data_quality_baseline_job_name = f\"DataQualityBaselineJob-{datetime.utcnow():%Y-%m-%d-%H%M}\"\n",
    "\n",
    "data_quality_baseline_job = data_quality_monitor.suggest_baseline(\n",
    "    job_name=data_quality_baseline_job_name,\n",
    "    baseline_dataset=\"train-headers.csv\",\n",
    "    dataset_format=DatasetFormat.csv(header=True),\n",
    ")\n",
    "\n",
    "data_quality_baseline_job.wait(logs=False)"
   ]
  },
  {
   "cell_type": "markdown",
   "id": "b0467a9e-67f9-47e0-b8c6-d4dce634b735",
   "metadata": {},
   "source": [
    "Amazon SageMaker Model Monitor prebuilt container computes per column/feature statistics. The statistics are calculated for the baseline dataset and also for the current dataset that is being analyzed. The cell below returns a table of computed baseline feature statistics."
   ]
  },
  {
   "cell_type": "code",
   "execution_count": 23,
   "id": "fb23e8af-9316-479f-9125-cab3951825e9",
   "metadata": {},
   "outputs": [
    {
     "data": {
      "text/html": [
       "<div>\n",
       "<style scoped>\n",
       "    .dataframe tbody tr th:only-of-type {\n",
       "        vertical-align: middle;\n",
       "    }\n",
       "\n",
       "    .dataframe tbody tr th {\n",
       "        vertical-align: top;\n",
       "    }\n",
       "\n",
       "    .dataframe thead th {\n",
       "        text-align: right;\n",
       "    }\n",
       "</style>\n",
       "<table border=\"1\" class=\"dataframe\">\n",
       "  <thead>\n",
       "    <tr style=\"text-align: right;\">\n",
       "      <th></th>\n",
       "      <th>name</th>\n",
       "      <th>inferred_type</th>\n",
       "      <th>numerical_statistics.common.num_present</th>\n",
       "      <th>numerical_statistics.common.num_missing</th>\n",
       "      <th>numerical_statistics.mean</th>\n",
       "      <th>numerical_statistics.sum</th>\n",
       "      <th>numerical_statistics.std_dev</th>\n",
       "      <th>numerical_statistics.min</th>\n",
       "      <th>numerical_statistics.max</th>\n",
       "      <th>numerical_statistics.distribution.kll.buckets</th>\n",
       "      <th>numerical_statistics.distribution.kll.sketch.parameters.c</th>\n",
       "      <th>numerical_statistics.distribution.kll.sketch.parameters.k</th>\n",
       "      <th>numerical_statistics.distribution.kll.sketch.data</th>\n",
       "    </tr>\n",
       "  </thead>\n",
       "  <tbody>\n",
       "    <tr>\n",
       "      <th>0</th>\n",
       "      <td>y_yes</td>\n",
       "      <td>Integral</td>\n",
       "      <td>28831</td>\n",
       "      <td>0</td>\n",
       "      <td>0.110749</td>\n",
       "      <td>3193.0</td>\n",
       "      <td>0.313821</td>\n",
       "      <td>0.0</td>\n",
       "      <td>1.0</td>\n",
       "      <td>[{'lower_bound': 0.0, 'upper_bound': 0.1, 'cou...</td>\n",
       "      <td>0.64</td>\n",
       "      <td>2048.0</td>\n",
       "      <td>[[1.0, 0.0, 0.0, 0.0, 0.0, 0.0, 1.0, 0.0, 1.0,...</td>\n",
       "    </tr>\n",
       "    <tr>\n",
       "      <th>1</th>\n",
       "      <td>age</td>\n",
       "      <td>Integral</td>\n",
       "      <td>28831</td>\n",
       "      <td>0</td>\n",
       "      <td>40.020672</td>\n",
       "      <td>1153836.0</td>\n",
       "      <td>10.369838</td>\n",
       "      <td>17.0</td>\n",
       "      <td>95.0</td>\n",
       "      <td>[{'lower_bound': 17.0, 'upper_bound': 24.8, 'c...</td>\n",
       "      <td>0.64</td>\n",
       "      <td>2048.0</td>\n",
       "      <td>[[27.0, 46.0, 50.0, 54.0, 46.0, 40.0, 47.0, 51...</td>\n",
       "    </tr>\n",
       "    <tr>\n",
       "      <th>2</th>\n",
       "      <td>campaign</td>\n",
       "      <td>Integral</td>\n",
       "      <td>28831</td>\n",
       "      <td>0</td>\n",
       "      <td>2.574312</td>\n",
       "      <td>74220.0</td>\n",
       "      <td>2.770696</td>\n",
       "      <td>1.0</td>\n",
       "      <td>43.0</td>\n",
       "      <td>[{'lower_bound': 1.0, 'upper_bound': 5.2, 'cou...</td>\n",
       "      <td>0.64</td>\n",
       "      <td>2048.0</td>\n",
       "      <td>[[5.0, 1.0, 4.0, 3.0, 2.0, 2.0, 3.0, 2.0, 4.0,...</td>\n",
       "    </tr>\n",
       "    <tr>\n",
       "      <th>3</th>\n",
       "      <td>pdays</td>\n",
       "      <td>Integral</td>\n",
       "      <td>28831</td>\n",
       "      <td>0</td>\n",
       "      <td>963.112102</td>\n",
       "      <td>27767485.0</td>\n",
       "      <td>185.333510</td>\n",
       "      <td>0.0</td>\n",
       "      <td>999.0</td>\n",
       "      <td>[{'lower_bound': 0.0, 'upper_bound': 99.9, 'co...</td>\n",
       "      <td>0.64</td>\n",
       "      <td>2048.0</td>\n",
       "      <td>[[999.0, 999.0, 999.0, 999.0, 999.0, 999.0, 99...</td>\n",
       "    </tr>\n",
       "    <tr>\n",
       "      <th>4</th>\n",
       "      <td>previous</td>\n",
       "      <td>Integral</td>\n",
       "      <td>28831</td>\n",
       "      <td>0</td>\n",
       "      <td>0.171101</td>\n",
       "      <td>4933.0</td>\n",
       "      <td>0.493338</td>\n",
       "      <td>0.0</td>\n",
       "      <td>7.0</td>\n",
       "      <td>[{'lower_bound': 0.0, 'upper_bound': 0.7, 'cou...</td>\n",
       "      <td>0.64</td>\n",
       "      <td>2048.0</td>\n",
       "      <td>[[0.0, 0.0, 0.0, 1.0, 2.0, 0.0, 0.0, 0.0, 0.0,...</td>\n",
       "    </tr>\n",
       "    <tr>\n",
       "      <th>5</th>\n",
       "      <td>no_previous_contact</td>\n",
       "      <td>Integral</td>\n",
       "      <td>28831</td>\n",
       "      <td>0</td>\n",
       "      <td>0.963858</td>\n",
       "      <td>27789.0</td>\n",
       "      <td>0.186643</td>\n",
       "      <td>0.0</td>\n",
       "      <td>1.0</td>\n",
       "      <td>[{'lower_bound': 0.0, 'upper_bound': 0.1, 'cou...</td>\n",
       "      <td>0.64</td>\n",
       "      <td>2048.0</td>\n",
       "      <td>[[1.0, 1.0, 1.0, 1.0, 1.0, 1.0, 1.0, 1.0, 1.0,...</td>\n",
       "    </tr>\n",
       "    <tr>\n",
       "      <th>6</th>\n",
       "      <td>not_working</td>\n",
       "      <td>Integral</td>\n",
       "      <td>28831</td>\n",
       "      <td>0</td>\n",
       "      <td>0.086331</td>\n",
       "      <td>2489.0</td>\n",
       "      <td>0.280852</td>\n",
       "      <td>0.0</td>\n",
       "      <td>1.0</td>\n",
       "      <td>[{'lower_bound': 0.0, 'upper_bound': 0.1, 'cou...</td>\n",
       "      <td>0.64</td>\n",
       "      <td>2048.0</td>\n",
       "      <td>[[0.0, 0.0, 0.0, 0.0, 0.0, 0.0, 0.0, 0.0, 0.0,...</td>\n",
       "    </tr>\n",
       "    <tr>\n",
       "      <th>7</th>\n",
       "      <td>job_admin</td>\n",
       "      <td>Fractional</td>\n",
       "      <td>28831</td>\n",
       "      <td>0</td>\n",
       "      <td>0.252367</td>\n",
       "      <td>7276.0</td>\n",
       "      <td>0.434371</td>\n",
       "      <td>0.0</td>\n",
       "      <td>1.0</td>\n",
       "      <td>[{'lower_bound': 0.0, 'upper_bound': 0.1, 'cou...</td>\n",
       "      <td>0.64</td>\n",
       "      <td>2048.0</td>\n",
       "      <td>[[0.0, 0.0, 0.0, 0.0, 0.0, 1.0, 1.0, 0.0, 0.0,...</td>\n",
       "    </tr>\n",
       "    <tr>\n",
       "      <th>8</th>\n",
       "      <td>job_blue-collar</td>\n",
       "      <td>Fractional</td>\n",
       "      <td>28831</td>\n",
       "      <td>0</td>\n",
       "      <td>0.225001</td>\n",
       "      <td>6487.0</td>\n",
       "      <td>0.417583</td>\n",
       "      <td>0.0</td>\n",
       "      <td>1.0</td>\n",
       "      <td>[{'lower_bound': 0.0, 'upper_bound': 0.1, 'cou...</td>\n",
       "      <td>0.64</td>\n",
       "      <td>2048.0</td>\n",
       "      <td>[[0.0, 1.0, 0.0, 0.0, 0.0, 0.0, 0.0, 0.0, 1.0,...</td>\n",
       "    </tr>\n",
       "    <tr>\n",
       "      <th>9</th>\n",
       "      <td>job_technician</td>\n",
       "      <td>Fractional</td>\n",
       "      <td>28831</td>\n",
       "      <td>0</td>\n",
       "      <td>0.163019</td>\n",
       "      <td>4700.0</td>\n",
       "      <td>0.369383</td>\n",
       "      <td>0.0</td>\n",
       "      <td>1.0</td>\n",
       "      <td>[{'lower_bound': 0.0, 'upper_bound': 0.1, 'cou...</td>\n",
       "      <td>0.64</td>\n",
       "      <td>2048.0</td>\n",
       "      <td>[[0.0, 0.0, 0.0, 1.0, 0.0, 0.0, 0.0, 0.0, 0.0,...</td>\n",
       "    </tr>\n",
       "  </tbody>\n",
       "</table>\n",
       "</div>"
      ],
      "text/plain": [
       "                  name inferred_type  numerical_statistics.common.num_present  \\\n",
       "0                y_yes      Integral                                    28831   \n",
       "1                  age      Integral                                    28831   \n",
       "2             campaign      Integral                                    28831   \n",
       "3                pdays      Integral                                    28831   \n",
       "4             previous      Integral                                    28831   \n",
       "5  no_previous_contact      Integral                                    28831   \n",
       "6          not_working      Integral                                    28831   \n",
       "7            job_admin    Fractional                                    28831   \n",
       "8      job_blue-collar    Fractional                                    28831   \n",
       "9       job_technician    Fractional                                    28831   \n",
       "\n",
       "   numerical_statistics.common.num_missing  numerical_statistics.mean  \\\n",
       "0                                        0                   0.110749   \n",
       "1                                        0                  40.020672   \n",
       "2                                        0                   2.574312   \n",
       "3                                        0                 963.112102   \n",
       "4                                        0                   0.171101   \n",
       "5                                        0                   0.963858   \n",
       "6                                        0                   0.086331   \n",
       "7                                        0                   0.252367   \n",
       "8                                        0                   0.225001   \n",
       "9                                        0                   0.163019   \n",
       "\n",
       "   numerical_statistics.sum  numerical_statistics.std_dev  \\\n",
       "0                    3193.0                      0.313821   \n",
       "1                 1153836.0                     10.369838   \n",
       "2                   74220.0                      2.770696   \n",
       "3                27767485.0                    185.333510   \n",
       "4                    4933.0                      0.493338   \n",
       "5                   27789.0                      0.186643   \n",
       "6                    2489.0                      0.280852   \n",
       "7                    7276.0                      0.434371   \n",
       "8                    6487.0                      0.417583   \n",
       "9                    4700.0                      0.369383   \n",
       "\n",
       "   numerical_statistics.min  numerical_statistics.max  \\\n",
       "0                       0.0                       1.0   \n",
       "1                      17.0                      95.0   \n",
       "2                       1.0                      43.0   \n",
       "3                       0.0                     999.0   \n",
       "4                       0.0                       7.0   \n",
       "5                       0.0                       1.0   \n",
       "6                       0.0                       1.0   \n",
       "7                       0.0                       1.0   \n",
       "8                       0.0                       1.0   \n",
       "9                       0.0                       1.0   \n",
       "\n",
       "       numerical_statistics.distribution.kll.buckets  \\\n",
       "0  [{'lower_bound': 0.0, 'upper_bound': 0.1, 'cou...   \n",
       "1  [{'lower_bound': 17.0, 'upper_bound': 24.8, 'c...   \n",
       "2  [{'lower_bound': 1.0, 'upper_bound': 5.2, 'cou...   \n",
       "3  [{'lower_bound': 0.0, 'upper_bound': 99.9, 'co...   \n",
       "4  [{'lower_bound': 0.0, 'upper_bound': 0.7, 'cou...   \n",
       "5  [{'lower_bound': 0.0, 'upper_bound': 0.1, 'cou...   \n",
       "6  [{'lower_bound': 0.0, 'upper_bound': 0.1, 'cou...   \n",
       "7  [{'lower_bound': 0.0, 'upper_bound': 0.1, 'cou...   \n",
       "8  [{'lower_bound': 0.0, 'upper_bound': 0.1, 'cou...   \n",
       "9  [{'lower_bound': 0.0, 'upper_bound': 0.1, 'cou...   \n",
       "\n",
       "   numerical_statistics.distribution.kll.sketch.parameters.c  \\\n",
       "0                                               0.64           \n",
       "1                                               0.64           \n",
       "2                                               0.64           \n",
       "3                                               0.64           \n",
       "4                                               0.64           \n",
       "5                                               0.64           \n",
       "6                                               0.64           \n",
       "7                                               0.64           \n",
       "8                                               0.64           \n",
       "9                                               0.64           \n",
       "\n",
       "   numerical_statistics.distribution.kll.sketch.parameters.k  \\\n",
       "0                                             2048.0           \n",
       "1                                             2048.0           \n",
       "2                                             2048.0           \n",
       "3                                             2048.0           \n",
       "4                                             2048.0           \n",
       "5                                             2048.0           \n",
       "6                                             2048.0           \n",
       "7                                             2048.0           \n",
       "8                                             2048.0           \n",
       "9                                             2048.0           \n",
       "\n",
       "   numerical_statistics.distribution.kll.sketch.data  \n",
       "0  [[1.0, 0.0, 0.0, 0.0, 0.0, 0.0, 1.0, 0.0, 1.0,...  \n",
       "1  [[27.0, 46.0, 50.0, 54.0, 46.0, 40.0, 47.0, 51...  \n",
       "2  [[5.0, 1.0, 4.0, 3.0, 2.0, 2.0, 3.0, 2.0, 4.0,...  \n",
       "3  [[999.0, 999.0, 999.0, 999.0, 999.0, 999.0, 99...  \n",
       "4  [[0.0, 0.0, 0.0, 1.0, 2.0, 0.0, 0.0, 0.0, 0.0,...  \n",
       "5  [[1.0, 1.0, 1.0, 1.0, 1.0, 1.0, 1.0, 1.0, 1.0,...  \n",
       "6  [[0.0, 0.0, 0.0, 0.0, 0.0, 0.0, 0.0, 0.0, 0.0,...  \n",
       "7  [[0.0, 0.0, 0.0, 0.0, 0.0, 1.0, 1.0, 0.0, 0.0,...  \n",
       "8  [[0.0, 1.0, 0.0, 0.0, 0.0, 0.0, 0.0, 0.0, 1.0,...  \n",
       "9  [[0.0, 0.0, 0.0, 1.0, 0.0, 0.0, 0.0, 0.0, 0.0,...  "
      ]
     },
     "execution_count": 23,
     "metadata": {},
     "output_type": "execute_result"
    }
   ],
   "source": [
    "latest_data_quality_baseline_job = data_quality_monitor.latest_baselining_job\n",
    "schema_df = pd.json_normalize(latest_data_quality_baseline_job.baseline_statistics().body_dict[\"features\"])\n",
    "schema_df.head(10)"
   ]
  },
  {
   "cell_type": "markdown",
   "id": "c795d391-fd8d-4fd4-9977-1c51107bfc3e",
   "metadata": {},
   "source": [
    "SageMaker Model Monitor will also suggest constraints per feature using the baseline statistics. View them using the cell below:"
   ]
  },
  {
   "cell_type": "code",
   "execution_count": 24,
   "id": "7c3e1c7e-1f5a-425a-91c4-03484356f09f",
   "metadata": {},
   "outputs": [
    {
     "data": {
      "text/html": [
       "<div>\n",
       "<style scoped>\n",
       "    .dataframe tbody tr th:only-of-type {\n",
       "        vertical-align: middle;\n",
       "    }\n",
       "\n",
       "    .dataframe tbody tr th {\n",
       "        vertical-align: top;\n",
       "    }\n",
       "\n",
       "    .dataframe thead th {\n",
       "        text-align: right;\n",
       "    }\n",
       "</style>\n",
       "<table border=\"1\" class=\"dataframe\">\n",
       "  <thead>\n",
       "    <tr style=\"text-align: right;\">\n",
       "      <th></th>\n",
       "      <th>name</th>\n",
       "      <th>inferred_type</th>\n",
       "      <th>completeness</th>\n",
       "      <th>num_constraints.is_non_negative</th>\n",
       "    </tr>\n",
       "  </thead>\n",
       "  <tbody>\n",
       "    <tr>\n",
       "      <th>0</th>\n",
       "      <td>y_yes</td>\n",
       "      <td>Integral</td>\n",
       "      <td>1.0</td>\n",
       "      <td>True</td>\n",
       "    </tr>\n",
       "    <tr>\n",
       "      <th>1</th>\n",
       "      <td>age</td>\n",
       "      <td>Integral</td>\n",
       "      <td>1.0</td>\n",
       "      <td>True</td>\n",
       "    </tr>\n",
       "    <tr>\n",
       "      <th>2</th>\n",
       "      <td>campaign</td>\n",
       "      <td>Integral</td>\n",
       "      <td>1.0</td>\n",
       "      <td>True</td>\n",
       "    </tr>\n",
       "    <tr>\n",
       "      <th>3</th>\n",
       "      <td>pdays</td>\n",
       "      <td>Integral</td>\n",
       "      <td>1.0</td>\n",
       "      <td>True</td>\n",
       "    </tr>\n",
       "    <tr>\n",
       "      <th>4</th>\n",
       "      <td>previous</td>\n",
       "      <td>Integral</td>\n",
       "      <td>1.0</td>\n",
       "      <td>True</td>\n",
       "    </tr>\n",
       "    <tr>\n",
       "      <th>5</th>\n",
       "      <td>no_previous_contact</td>\n",
       "      <td>Integral</td>\n",
       "      <td>1.0</td>\n",
       "      <td>True</td>\n",
       "    </tr>\n",
       "    <tr>\n",
       "      <th>6</th>\n",
       "      <td>not_working</td>\n",
       "      <td>Integral</td>\n",
       "      <td>1.0</td>\n",
       "      <td>True</td>\n",
       "    </tr>\n",
       "    <tr>\n",
       "      <th>7</th>\n",
       "      <td>job_admin</td>\n",
       "      <td>Fractional</td>\n",
       "      <td>1.0</td>\n",
       "      <td>True</td>\n",
       "    </tr>\n",
       "    <tr>\n",
       "      <th>8</th>\n",
       "      <td>job_blue-collar</td>\n",
       "      <td>Fractional</td>\n",
       "      <td>1.0</td>\n",
       "      <td>True</td>\n",
       "    </tr>\n",
       "    <tr>\n",
       "      <th>9</th>\n",
       "      <td>job_technician</td>\n",
       "      <td>Fractional</td>\n",
       "      <td>1.0</td>\n",
       "      <td>True</td>\n",
       "    </tr>\n",
       "  </tbody>\n",
       "</table>\n",
       "</div>"
      ],
      "text/plain": [
       "                  name inferred_type  completeness  \\\n",
       "0                y_yes      Integral           1.0   \n",
       "1                  age      Integral           1.0   \n",
       "2             campaign      Integral           1.0   \n",
       "3                pdays      Integral           1.0   \n",
       "4             previous      Integral           1.0   \n",
       "5  no_previous_contact      Integral           1.0   \n",
       "6          not_working      Integral           1.0   \n",
       "7            job_admin    Fractional           1.0   \n",
       "8      job_blue-collar    Fractional           1.0   \n",
       "9       job_technician    Fractional           1.0   \n",
       "\n",
       "   num_constraints.is_non_negative  \n",
       "0                             True  \n",
       "1                             True  \n",
       "2                             True  \n",
       "3                             True  \n",
       "4                             True  \n",
       "5                             True  \n",
       "6                             True  \n",
       "7                             True  \n",
       "8                             True  \n",
       "9                             True  "
      ]
     },
     "execution_count": 24,
     "metadata": {},
     "output_type": "execute_result"
    }
   ],
   "source": [
    "constraints_df = pd.json_normalize(latest_data_quality_baseline_job.suggested_constraints().body_dict[\"features\"])\n",
    "constraints_df.head(10)"
   ]
  },
  {
   "cell_type": "markdown",
   "id": "91b0187f-3eb9-4c55-9c7e-7623ef55673c",
   "metadata": {},
   "source": [
    "### Schedule continuous data quality monitoring"
   ]
  },
  {
   "cell_type": "markdown",
   "id": "9b37347d-b15b-491a-bfaa-bba7ea75d195",
   "metadata": {},
   "source": [
    "You can create a data monitoring schedule for the endpoint created earlier. \n",
    "\n",
    "Use the baseline resources (constraints and statistics) to compare against the real-time traffic hourly."
   ]
  },
  {
   "cell_type": "code",
   "execution_count": 25,
   "id": "f9003da3-5e69-42a8-986c-3f2aca9ac1b7",
   "metadata": {},
   "outputs": [],
   "source": [
    "## Create a data quality monitoring schedule name.\n",
    "data_quality_monitor_schedule_name = (\n",
    "    f\"xgboost-dm-data-monitoring-schedule-{datetime.utcnow():%Y-%m-%d-%H%M}\"\n",
    ")"
   ]
  },
  {
   "cell_type": "code",
   "execution_count": 29,
   "id": "99e4e3a2-39d0-4f12-9f63-91861b222722",
   "metadata": {},
   "outputs": [],
   "source": [
    "# Create an EndpointInput\n",
    "endpointInput = EndpointInput(\n",
    "    endpoint_name=predictor.endpoint_name,\n",
    "    destination=\"/opt/ml/processing/input_data\",\n",
    ")"
   ]
  },
  {
   "cell_type": "code",
   "execution_count": 30,
   "id": "58e4a57b-ec00-4764-b282-15bcd56a99f2",
   "metadata": {},
   "outputs": [],
   "source": [
    "# Specify where to write the data quality monitoring results report to.\n",
    "data_quality_baseline_job_result_uri = f\"{s3_baseline_results_path}/data_quality\"\n",
    "\n",
    "response = data_quality_monitor.create_monitoring_schedule(\n",
    "    monitor_schedule_name=data_quality_monitor_schedule_name,\n",
    "    endpoint_input=endpointInput,\n",
    "    output_s3_uri=data_quality_baseline_job_result_uri,\n",
    "    constraints=latest_data_quality_baseline_job.suggested_constraints(),\n",
    "    # Create the monitoring schedule to execute every hour.    \n",
    "    schedule_cron_expression=CronExpressionGenerator.hourly(),\n",
    "    enable_cloudwatch_metrics=True,\n",
    ")"
   ]
  },
  {
   "cell_type": "code",
   "execution_count": 31,
   "id": "cfa8e0ed-ca86-49be-a248-dda50c0b9a3c",
   "metadata": {},
   "outputs": [
    {
     "data": {
      "text/plain": [
       "{'MonitoringScheduleArn': 'arn:aws:sagemaker:us-east-1:836443424694:monitoring-schedule/xgboost-dm-data-monitoring-schedule-2022-08-30-1921',\n",
       " 'MonitoringScheduleName': 'xgboost-dm-data-monitoring-schedule-2022-08-30-1921',\n",
       " 'MonitoringScheduleStatus': 'Scheduled',\n",
       " 'MonitoringType': 'DataQuality',\n",
       " 'CreationTime': datetime.datetime(2022, 8, 30, 20, 14, 51, 735000, tzinfo=tzlocal()),\n",
       " 'LastModifiedTime': datetime.datetime(2022, 8, 30, 20, 15, 3, 259000, tzinfo=tzlocal()),\n",
       " 'MonitoringScheduleConfig': {'ScheduleConfig': {'ScheduleExpression': 'cron(0 * ? * * *)'},\n",
       "  'MonitoringJobDefinitionName': 'data-quality-job-definition-2022-08-30-20-14-51-032',\n",
       "  'MonitoringType': 'DataQuality'},\n",
       " 'EndpointName': 'workshop-project-prod',\n",
       " 'ResponseMetadata': {'RequestId': '6848cd64-e367-416c-9634-8e1b393855f1',\n",
       "  'HTTPStatusCode': 200,\n",
       "  'HTTPHeaders': {'x-amzn-requestid': '6848cd64-e367-416c-9634-8e1b393855f1',\n",
       "   'content-type': 'application/x-amz-json-1.1',\n",
       "   'content-length': '600',\n",
       "   'date': 'Tue, 30 Aug 2022 20:15:09 GMT'},\n",
       "  'RetryAttempts': 0}}"
      ]
     },
     "execution_count": 31,
     "metadata": {},
     "output_type": "execute_result"
    }
   ],
   "source": [
    "# You will see the monitoring schedule in the 'Scheduled' status\n",
    "data_quality_monitor.describe_schedule()"
   ]
  },
  {
   "cell_type": "code",
   "execution_count": 32,
   "id": "a2fb16f6-b4fe-4317-82e3-e5a36d839e03",
   "metadata": {},
   "outputs": [
    {
     "data": {
      "text/plain": [
       "[<sagemaker.model_monitor.model_monitoring.DefaultModelMonitor at 0x7f1507c66e90>,\n",
       " <sagemaker.model_monitor.model_monitoring.DefaultModelMonitor at 0x7f150681e390>]"
      ]
     },
     "execution_count": 32,
     "metadata": {},
     "output_type": "execute_result"
    }
   ],
   "source": [
    "# Check default model monitor created.\n",
    "predictor.list_monitors()"
   ]
  },
  {
   "cell_type": "code",
   "execution_count": 33,
   "id": "b547093b-728d-4d7e-8075-33c2979c2b4f",
   "metadata": {},
   "outputs": [
    {
     "name": "stdout",
     "output_type": "stream",
     "text": [
      "No executions found for schedule. monitoring_schedule_name: xgboost-dm-data-monitoring-schedule-2022-08-30-1921\n"
     ]
    },
    {
     "data": {
      "text/plain": [
       "[]"
      ]
     },
     "execution_count": 33,
     "metadata": {},
     "output_type": "execute_result"
    }
   ],
   "source": [
    "# Initially there will be no executions since the first execution happens at the top of the hour\n",
    "# Note that it is common for the execution to launch upto 20 min after the hour.\n",
    "executions = data_quality_monitor.list_executions()\n",
    "executions[:5]"
   ]
  },
  {
   "cell_type": "markdown",
   "id": "b5a91aa2-3579-4daa-89c6-dde9e3b4e443",
   "metadata": {
    "tags": []
   },
   "source": [
    "## Monitor model quality"
   ]
  },
  {
   "cell_type": "markdown",
   "id": "9229fdd6-345a-44da-8978-494f1b094593",
   "metadata": {},
   "source": [
    "Model quality monitoring jobs monitor the performance of a model by comparing the predictions that the model makes with the actual ground truth labels that the model attempts to predict. To do this, model quality monitoring merges data that is captured from real-time inference with actual labels stored in S3, and then compares the predictions with the actual labels."
   ]
  },
  {
   "cell_type": "markdown",
   "id": "167efb77-96c4-458c-8e1c-7e8cbb16721d",
   "metadata": {},
   "source": [
    "### Define `ModelQualityMonitor`"
   ]
  },
  {
   "cell_type": "markdown",
   "id": "46f38b9a-449c-4a4e-a7ae-117e4a2601b7",
   "metadata": {},
   "source": [
    "First, define and configure a [`ModelQualityMonitor`](https://sagemaker.readthedocs.io/en/stable/api/inference/model_monitor.html#sagemaker.model_monitor.model_monitoring.ModelQualityMonitor) object."
   ]
  },
  {
   "cell_type": "code",
   "execution_count": 34,
   "id": "1b75f1b7-c470-423e-83bd-4deaabbca58e",
   "metadata": {},
   "outputs": [],
   "source": [
    "model_quality_monitor = ModelQualityMonitor(\n",
    "    role=role,\n",
    "    instance_count=1,\n",
    "    instance_type='ml.m5.xlarge',\n",
    "    volume_size_in_gb=20,\n",
    "    max_runtime_in_seconds=1800,\n",
    "    sagemaker_session=sagemaker_session\n",
    ")"
   ]
  },
  {
   "cell_type": "markdown",
   "id": "df973c1d-536a-462b-910d-8e5cabe57b12",
   "metadata": {},
   "source": [
    "### Run model quality baseline job"
   ]
  },
  {
   "cell_type": "markdown",
   "id": "1e966370-29d1-4876-ab1e-d9a9ed8bb241",
   "metadata": {},
   "source": [
    "Next, you run a model quality baseline job. As inputs, you need to provide a validation or test dataset with model predictions to establish a model performance baseline. The code block sends the validation dataset against the deployed model endpoint and writes out a CSV file with the labels and predictions in the format `{probability}/{prediction}/{label}` for the `ModelQualityMonitor` to compute a performance baseline. Note you need to provide at least 200 samples to compute model performance metric standard deviations.\n",
    "\n",
    "The deployed model on your endpoint is an XGBoost binary classifier which outputs predicted probabilities so you will need to score the predictions based on a prediction threshold. By default, it is set as `0.5` below, meaning probabilities above `0.5` will get scored as a `1` and below a `0`."
   ]
  },
  {
   "cell_type": "code",
   "execution_count": 146,
   "id": "01d51e52-43d5-4c86-a63d-bc56d564d533",
   "metadata": {},
   "outputs": [],
   "source": [
    "prediction_threshold = 0.5\n",
    "model_quality_baseline_job_result_uri = f\"{s3_baseline_results_path}/model-quality\"\n",
    "validate_dataset = \"validation-with-predictions.csv\""
   ]
  },
  {
   "cell_type": "code",
   "execution_count": 147,
   "id": "2c5b5572-5455-4437-92e7-0ba7bf0e232a",
   "metadata": {},
   "outputs": [
    {
     "name": "stdout",
     "output_type": "stream",
     "text": [
      "........................................................................................................................................................................................................\n",
      "Done!\n",
      "Uploading 180 records to s3://sagemaker-us-east-1-836443424694/sagemaker/xgboost-dm-model-monitoring/ground_truth_data/2022-08-30-18-20-30/2022/09/01/17/1708.jsonl\n"
     ]
    }
   ],
   "source": [
    "limit = 200  # Need at least 200 samples to compute standard deviations\n",
    "i = 0\n",
    "with open(f\"{validate_dataset}\", \"w\") as baseline_file:\n",
    "    baseline_file.write(\"probability,prediction,label\\n\")  # our header\n",
    "    with open(\"validation.csv\", \"r\") as f:\n",
    "        for row in f:\n",
    "            (label, input_cols) = row.split(\",\", 1)\n",
    "            probability = float(predictor.predict(input_cols))\n",
    "            prediction = \"1\" if probability > prediction_threshold else \"0\"\n",
    "            baseline_file.write(f\"{probability},{prediction},{label}\\n\")\n",
    "            i += 1\n",
    "            if i > limit:\n",
    "                break\n",
    "            print(\".\", end=\"\", flush=True)\n",
    "            time.sleep(0.5)\n",
    "print()\n",
    "print(\"Done!\")"
   ]
  },
  {
   "cell_type": "markdown",
   "id": "5ea7d899-ffde-47fc-9e52-e17ea95dec45",
   "metadata": {},
   "source": [
    "Call the `suggest_baseline` method of the `ModelQualityMonitor` object to run a baseline job.\n",
    "\n",
    "Note: this step can take about 8-10 min."
   ]
  },
  {
   "cell_type": "code",
   "execution_count": 37,
   "id": "52436a75-c93e-439d-941e-6c683ef7c48b",
   "metadata": {},
   "outputs": [
    {
     "name": "stdout",
     "output_type": "stream",
     "text": [
      "\n",
      "Job Name:  ModelQualityBaselineJob-2022-08-30-2017\n",
      "Inputs:  [{'InputName': 'baseline_dataset_input', 'AppManaged': False, 'S3Input': {'S3Uri': 's3://sagemaker-us-east-1-836443424694/model-monitor/baselining/ModelQualityBaselineJob-2022-08-30-2017/input/baseline_dataset_input', 'LocalPath': '/opt/ml/processing/input/baseline_dataset_input', 'S3DataType': 'S3Prefix', 'S3InputMode': 'File', 'S3DataDistributionType': 'FullyReplicated', 'S3CompressionType': 'None'}}]\n",
      "Outputs:  [{'OutputName': 'monitoring_output', 'AppManaged': False, 'S3Output': {'S3Uri': 's3://sagemaker-us-east-1-836443424694/sagemaker/xgboost-dm-model-monitoring/baselines/model-quality', 'LocalPath': '/opt/ml/processing/output', 'S3UploadMode': 'EndOfJob'}}]\n",
      ".........................................................................................................................................................!"
     ]
    }
   ],
   "source": [
    "model_quality_baseline_job_name = f\"ModelQualityBaselineJob-{datetime.utcnow():%Y-%m-%d-%H%M}\"\n",
    "\n",
    "model_quality_baseline_job = model_quality_monitor.suggest_baseline(\n",
    "    job_name=model_quality_baseline_job_name,\n",
    "    baseline_dataset=\"validation_with_predictions.csv\", # The S3 location of the validation dataset.\n",
    "    dataset_format=DatasetFormat.csv(header=True),\n",
    "    output_s3_uri = model_quality_baseline_job_result_uri, # The S3 location to store the results.\n",
    "    problem_type=\"BinaryClassification\",\n",
    "    inference_attribute= \"prediction\", # The column in the dataset that contains predictions.\n",
    "    probability_attribute= \"probability\", # The column in the dataset that contains probabilities.\n",
    "    ground_truth_attribute= \"label\" # The column in the dataset that contains ground truth labels.\n",
    ")\n",
    "\n",
    "model_quality_baseline_job.wait(logs=False)"
   ]
  },
  {
   "cell_type": "markdown",
   "id": "8156d492-fdcf-483b-a418-9c82c643f6bb",
   "metadata": {},
   "source": [
    "View the suggested model quality baseline constraints."
   ]
  },
  {
   "cell_type": "code",
   "execution_count": 38,
   "id": "7ed41270-7e15-42d0-8dc0-7c2c762aee20",
   "metadata": {},
   "outputs": [
    {
     "data": {
      "text/html": [
       "<div>\n",
       "<style scoped>\n",
       "    .dataframe tbody tr th:only-of-type {\n",
       "        vertical-align: middle;\n",
       "    }\n",
       "\n",
       "    .dataframe tbody tr th {\n",
       "        vertical-align: top;\n",
       "    }\n",
       "\n",
       "    .dataframe thead th {\n",
       "        text-align: right;\n",
       "    }\n",
       "</style>\n",
       "<table border=\"1\" class=\"dataframe\">\n",
       "  <thead>\n",
       "    <tr style=\"text-align: right;\">\n",
       "      <th></th>\n",
       "      <th>threshold</th>\n",
       "      <th>comparison_operator</th>\n",
       "    </tr>\n",
       "  </thead>\n",
       "  <tbody>\n",
       "    <tr>\n",
       "      <th>recall</th>\n",
       "      <td>0</td>\n",
       "      <td>LessThanThreshold</td>\n",
       "    </tr>\n",
       "    <tr>\n",
       "      <th>precision</th>\n",
       "      <td>0</td>\n",
       "      <td>LessThanThreshold</td>\n",
       "    </tr>\n",
       "    <tr>\n",
       "      <th>accuracy</th>\n",
       "      <td>0.900498</td>\n",
       "      <td>LessThanThreshold</td>\n",
       "    </tr>\n",
       "    <tr>\n",
       "      <th>true_positive_rate</th>\n",
       "      <td>0</td>\n",
       "      <td>LessThanThreshold</td>\n",
       "    </tr>\n",
       "    <tr>\n",
       "      <th>true_negative_rate</th>\n",
       "      <td>1</td>\n",
       "      <td>LessThanThreshold</td>\n",
       "    </tr>\n",
       "    <tr>\n",
       "      <th>false_positive_rate</th>\n",
       "      <td>0</td>\n",
       "      <td>GreaterThanThreshold</td>\n",
       "    </tr>\n",
       "    <tr>\n",
       "      <th>false_negative_rate</th>\n",
       "      <td>1</td>\n",
       "      <td>GreaterThanThreshold</td>\n",
       "    </tr>\n",
       "    <tr>\n",
       "      <th>auc</th>\n",
       "      <td>0.393094</td>\n",
       "      <td>LessThanThreshold</td>\n",
       "    </tr>\n",
       "    <tr>\n",
       "      <th>f0_5</th>\n",
       "      <td>0</td>\n",
       "      <td>LessThanThreshold</td>\n",
       "    </tr>\n",
       "    <tr>\n",
       "      <th>f1</th>\n",
       "      <td>0</td>\n",
       "      <td>LessThanThreshold</td>\n",
       "    </tr>\n",
       "    <tr>\n",
       "      <th>f2</th>\n",
       "      <td>0</td>\n",
       "      <td>LessThanThreshold</td>\n",
       "    </tr>\n",
       "  </tbody>\n",
       "</table>\n",
       "</div>"
      ],
      "text/plain": [
       "                    threshold   comparison_operator\n",
       "recall                      0     LessThanThreshold\n",
       "precision                   0     LessThanThreshold\n",
       "accuracy             0.900498     LessThanThreshold\n",
       "true_positive_rate          0     LessThanThreshold\n",
       "true_negative_rate          1     LessThanThreshold\n",
       "false_positive_rate         0  GreaterThanThreshold\n",
       "false_negative_rate         1  GreaterThanThreshold\n",
       "auc                  0.393094     LessThanThreshold\n",
       "f0_5                        0     LessThanThreshold\n",
       "f1                          0     LessThanThreshold\n",
       "f2                          0     LessThanThreshold"
      ]
     },
     "execution_count": 38,
     "metadata": {},
     "output_type": "execute_result"
    }
   ],
   "source": [
    "latest_model_quality_baseline_job = model_quality_monitor.latest_baselining_job\n",
    "pd.DataFrame(latest_model_quality_baseline_job.suggested_constraints().body_dict[\"binary_classification_constraints\"]).T"
   ]
  },
  {
   "cell_type": "markdown",
   "id": "8fb45df5-11df-42a7-a0d8-28b99ea83f4a",
   "metadata": {},
   "source": [
    "### Schedule continuous model quality monitoring"
   ]
  },
  {
   "cell_type": "markdown",
   "id": "5ff101b5-8436-4426-afe3-988d98bfe0dd",
   "metadata": {},
   "source": [
    "You can create a model monitoring schedule for the endpoint created earlier.\n",
    "\n",
    "Use the baseline resources (constraints and statistics) to compare against the real-time traffic hourly."
   ]
  },
  {
   "cell_type": "code",
   "execution_count": 39,
   "id": "cee24a1d-9261-402e-b574-b23eb41356b6",
   "metadata": {},
   "outputs": [],
   "source": [
    "model_quality_monitor_schedule_name = (\n",
    "    f\"xgboost-dm-model-monitoring-schedule-{datetime.utcnow():%Y-%m-%d-%H%M}\"\n",
    ")"
   ]
  },
  {
   "cell_type": "code",
   "execution_count": 40,
   "id": "b5a38ae7-3005-469a-b6a3-dc370f3b9872",
   "metadata": {},
   "outputs": [],
   "source": [
    "# Create an EndpointInput configuration.\n",
    "endpointInput = EndpointInput(\n",
    "    endpoint_name=predictor.endpoint_name,\n",
    "    probability_attribute=\"0\",\n",
    "    probability_threshold_attribute=0.5,\n",
    "    destination=\"/opt/ml/processing/input_data\",\n",
    ")"
   ]
  },
  {
   "cell_type": "code",
   "execution_count": 42,
   "id": "1016da00-e4f6-45ad-81b6-ec332a077cc4",
   "metadata": {},
   "outputs": [],
   "source": [
    "# Define a monitoring schedule.\n",
    "response = model_quality_monitor.create_monitoring_schedule(\n",
    "    monitor_schedule_name=model_quality_monitor_schedule_name,\n",
    "    endpoint_input=endpointInput,\n",
    "    output_s3_uri=model_quality_baseline_job_result_uri,\n",
    "    problem_type=\"BinaryClassification\",\n",
    "    ground_truth_input=s3_ground_truth_upload_path,\n",
    "    constraints=latest_model_quality_baseline_job.suggested_constraints(),\n",
    "    schedule_cron_expression=CronExpressionGenerator.hourly(),\n",
    "    # enable_cloudwatch_metrics=True,\n",
    ")"
   ]
  },
  {
   "cell_type": "code",
   "execution_count": 43,
   "id": "b4e5f0ef-29e9-4f32-92ee-c82d8280a607",
   "metadata": {},
   "outputs": [
    {
     "data": {
      "text/plain": [
       "[<sagemaker.model_monitor.model_monitoring.ModelQualityMonitor at 0x7f15077a13d0>,\n",
       " <sagemaker.model_monitor.model_monitoring.DefaultModelMonitor at 0x7f1507a77610>,\n",
       " <sagemaker.model_monitor.model_monitoring.DefaultModelMonitor at 0x7f1507e51c50>]"
      ]
     },
     "execution_count": 43,
     "metadata": {},
     "output_type": "execute_result"
    }
   ],
   "source": [
    "# Check the model monitor was created.\n",
    "predictor.list_monitors()"
   ]
  },
  {
   "cell_type": "code",
   "execution_count": 44,
   "id": "50c0e420-388d-41cc-addf-2c72457347f4",
   "metadata": {},
   "outputs": [
    {
     "data": {
      "text/plain": [
       "{'MonitoringScheduleArn': 'arn:aws:sagemaker:us-east-1:836443424694:monitoring-schedule/xgboost-dm-model-monitoring-schedule-2022-08-30-2030',\n",
       " 'MonitoringScheduleName': 'xgboost-dm-model-monitoring-schedule-2022-08-30-2030',\n",
       " 'MonitoringScheduleStatus': 'Pending',\n",
       " 'MonitoringType': 'ModelQuality',\n",
       " 'CreationTime': datetime.datetime(2022, 8, 30, 21, 9, 40, 177000, tzinfo=tzlocal()),\n",
       " 'LastModifiedTime': datetime.datetime(2022, 8, 30, 21, 9, 45, 62000, tzinfo=tzlocal()),\n",
       " 'MonitoringScheduleConfig': {'ScheduleConfig': {'ScheduleExpression': 'cron(0 * ? * * *)'},\n",
       "  'MonitoringJobDefinitionName': 'model-quality-job-definition-2022-08-30-21-09-39-802',\n",
       "  'MonitoringType': 'ModelQuality'},\n",
       " 'EndpointName': 'workshop-project-prod',\n",
       " 'ResponseMetadata': {'RequestId': '110bb3ad-6600-4bf3-8ecf-006a3a6df253',\n",
       "  'HTTPStatusCode': 200,\n",
       "  'HTTPHeaders': {'x-amzn-requestid': '110bb3ad-6600-4bf3-8ecf-006a3a6df253',\n",
       "   'content-type': 'application/x-amz-json-1.1',\n",
       "   'content-length': '603',\n",
       "   'date': 'Tue, 30 Aug 2022 21:09:47 GMT'},\n",
       "  'RetryAttempts': 0}}"
      ]
     },
     "execution_count": 44,
     "metadata": {},
     "output_type": "execute_result"
    }
   ],
   "source": [
    "# You will see the monitoring schedule in the 'Scheduled' status.\n",
    "model_quality_monitor.describe_schedule()"
   ]
  },
  {
   "cell_type": "code",
   "execution_count": 70,
   "id": "e8d19935-e606-43a2-b323-e4d6dd1590ab",
   "metadata": {},
   "outputs": [
    {
     "data": {
      "text/plain": [
       "[<sagemaker.model_monitor.model_monitoring.MonitoringExecution at 0x7f1507048250>,\n",
       " <sagemaker.model_monitor.model_monitoring.MonitoringExecution at 0x7f1507234b10>,\n",
       " <sagemaker.model_monitor.model_monitoring.MonitoringExecution at 0x7f1507048c90>,\n",
       " <sagemaker.model_monitor.model_monitoring.MonitoringExecution at 0x7f1507027110>,\n",
       " <sagemaker.model_monitor.model_monitoring.MonitoringExecution at 0x7f15073f4e90>]"
      ]
     },
     "execution_count": 70,
     "metadata": {},
     "output_type": "execute_result"
    }
   ],
   "source": [
    "# Initially there will be no executions since the first execution happens at the top of the hour\n",
    "# Note that it is common for the execution to launch up to 20 min after the hour.\n",
    "executions = model_quality_monitor.list_executions()\n",
    "executions[:5]"
   ]
  },
  {
   "cell_type": "markdown",
   "id": "2fe98726-fb13-4b88-9baa-e621a57a3323",
   "metadata": {
    "tags": []
   },
   "source": [
    "## Monitor model bias"
   ]
  },
  {
   "cell_type": "markdown",
   "id": "dc3dc7f2-3cd3-4622-903a-a59ed4ea79df",
   "metadata": {},
   "source": [
    "Model bias monitor can detect bias drift of Machine Learning models in a regular basis. Similar to the other monitoring types, the standard procedure of creating a model bias monitor is first baselining and then monitoring schedule."
   ]
  },
  {
   "cell_type": "markdown",
   "id": "9fc0789a-b91e-4944-a731-acf1af54b81c",
   "metadata": {},
   "source": [
    "### Define `ModelBiasMonitor`"
   ]
  },
  {
   "cell_type": "markdown",
   "id": "132c0244-6cb9-4852-a7c7-d75208fa409c",
   "metadata": {},
   "source": [
    "First, define a [`ModelBiasMonitor`](https://sagemaker.readthedocs.io/en/stable/api/inference/model_monitor.html#sagemaker.model_monitor.clarify_model_monitoring.ModelBiasMonitor) object."
   ]
  },
  {
   "cell_type": "code",
   "execution_count": 46,
   "id": "54a93fdb-5bd9-47bc-85cf-7db8450729cb",
   "metadata": {},
   "outputs": [],
   "source": [
    "model_bias_monitor = ModelBiasMonitor(\n",
    "    role=role,\n",
    "    sagemaker_session=sagemaker_session,\n",
    "    max_runtime_in_seconds=1800,\n",
    ")"
   ]
  },
  {
   "cell_type": "markdown",
   "id": "976fbf01-ecd4-4654-97aa-a89739a03684",
   "metadata": {},
   "source": [
    "### Create a model bias baseline job"
   ]
  },
  {
   "cell_type": "markdown",
   "id": "2016d134-3a02-4af3-bdd5-22f9a84ff51d",
   "metadata": {},
   "source": [
    "To execute a model bias baseline job, you need to define a few configurations on the dataset schema, label, and bias definitions in order to establish a baseline to evaluate the model performance against."
   ]
  },
  {
   "cell_type": "markdown",
   "id": "be51844e-6996-4505-9899-4790478c985b",
   "metadata": {},
   "source": [
    "#### Configure `DataConfig`"
   ]
  },
  {
   "cell_type": "markdown",
   "id": "096bb2e3-cf85-40a1-bf29-4d2b673974f9",
   "metadata": {},
   "source": [
    "This configuration is defining our dataset schema and label to compute a bias baseline in relation to the label."
   ]
  },
  {
   "cell_type": "code",
   "execution_count": 86,
   "id": "3efe4828-a9ec-417d-b836-6b70089eb4ce",
   "metadata": {},
   "outputs": [
    {
     "data": {
      "text/html": [
       "<div>\n",
       "<style scoped>\n",
       "    .dataframe tbody tr th:only-of-type {\n",
       "        vertical-align: middle;\n",
       "    }\n",
       "\n",
       "    .dataframe tbody tr th {\n",
       "        vertical-align: top;\n",
       "    }\n",
       "\n",
       "    .dataframe thead th {\n",
       "        text-align: right;\n",
       "    }\n",
       "</style>\n",
       "<table border=\"1\" class=\"dataframe\">\n",
       "  <thead>\n",
       "    <tr style=\"text-align: right;\">\n",
       "      <th></th>\n",
       "      <th>y_yes</th>\n",
       "      <th>age</th>\n",
       "      <th>campaign</th>\n",
       "      <th>pdays</th>\n",
       "      <th>previous</th>\n",
       "      <th>no_previous_contact</th>\n",
       "      <th>not_working</th>\n",
       "      <th>job_admin</th>\n",
       "      <th>job_blue-collar</th>\n",
       "      <th>job_technician</th>\n",
       "      <th>...</th>\n",
       "      <th>month_oct</th>\n",
       "      <th>month_sep</th>\n",
       "      <th>day_of_week_fri</th>\n",
       "      <th>day_of_week_mon</th>\n",
       "      <th>day_of_week_thu</th>\n",
       "      <th>day_of_week_tue</th>\n",
       "      <th>day_of_week_wed</th>\n",
       "      <th>poutcome_failure</th>\n",
       "      <th>poutcome_nonexistent</th>\n",
       "      <th>poutcome_success</th>\n",
       "    </tr>\n",
       "  </thead>\n",
       "  <tbody>\n",
       "    <tr>\n",
       "      <th>0</th>\n",
       "      <td>0</td>\n",
       "      <td>23</td>\n",
       "      <td>1</td>\n",
       "      <td>999</td>\n",
       "      <td>0</td>\n",
       "      <td>1</td>\n",
       "      <td>0</td>\n",
       "      <td>0.0</td>\n",
       "      <td>0.0</td>\n",
       "      <td>0.0</td>\n",
       "      <td>...</td>\n",
       "      <td>0</td>\n",
       "      <td>0</td>\n",
       "      <td>0</td>\n",
       "      <td>0</td>\n",
       "      <td>1</td>\n",
       "      <td>0</td>\n",
       "      <td>0</td>\n",
       "      <td>0</td>\n",
       "      <td>1</td>\n",
       "      <td>0</td>\n",
       "    </tr>\n",
       "  </tbody>\n",
       "</table>\n",
       "<p>1 rows × 60 columns</p>\n",
       "</div>"
      ],
      "text/plain": [
       "   y_yes  age  campaign  pdays  previous  no_previous_contact  not_working  \\\n",
       "0      0   23         1    999         0                    1            0   \n",
       "\n",
       "   job_admin  job_blue-collar  job_technician  ...  month_oct  month_sep  \\\n",
       "0        0.0              0.0             0.0  ...          0          0   \n",
       "\n",
       "   day_of_week_fri  day_of_week_mon  day_of_week_thu  day_of_week_tue  \\\n",
       "0                0                0                1                0   \n",
       "\n",
       "   day_of_week_wed  poutcome_failure  poutcome_nonexistent  poutcome_success  \n",
       "0                0                 0                     1                 0  \n",
       "\n",
       "[1 rows x 60 columns]"
      ]
     },
     "execution_count": 86,
     "metadata": {},
     "output_type": "execute_result"
    }
   ],
   "source": [
    "train_df.head(1)"
   ]
  },
  {
   "cell_type": "code",
   "execution_count": 106,
   "id": "f4f8143e-c4ef-4a58-83c6-4ffec76a050e",
   "metadata": {},
   "outputs": [],
   "source": [
    "model_bias_baseline_job_result_uri = f\"{s3_baseline_results_path}/model_bias\"\n",
    "\n",
    "model_bias_data_config = DataConfig(\n",
    "    s3_data_input_path=\"train-headers.csv\",\n",
    "    s3_output_path=model_bias_baseline_job_result_uri,\n",
    "    label=\"y_yes\",\n",
    "    headers=train_df.columns.to_list(),\n",
    "    dataset_type=\"text/csv\",\n",
    ")"
   ]
  },
  {
   "cell_type": "markdown",
   "id": "61d78b96-8f28-47db-9a7c-9fa229f53651",
   "metadata": {},
   "source": [
    "#### Configure `BiasConfig`"
   ]
  },
  {
   "cell_type": "markdown",
   "id": "488ad1bd-28e4-4512-b6c4-3f1692fd1030",
   "metadata": {},
   "source": [
    "Here in the [`BiasConfig`](https://sagemaker.readthedocs.io/en/stable/api/training/processing.html?highlight=clarify#sagemaker.clarify.BiasConfig) you are defining bias by identifying age as a key continuous facet to identify differences in whether certain age groups were proportionally targeted differently by the model."
   ]
  },
  {
   "cell_type": "code",
   "execution_count": 141,
   "id": "a88ac74d-c27b-48c7-8246-a6f195212f16",
   "metadata": {},
   "outputs": [],
   "source": [
    "model_bias_config = BiasConfig(\n",
    "    label_values_or_threshold=[0.5],\n",
    "    facet_name=\"age\",\n",
    "    facet_values_or_threshold=[100],\n",
    ")"
   ]
  },
  {
   "cell_type": "markdown",
   "id": "31aa3be4-a19a-4ed2-bd6f-1139ac56950c",
   "metadata": {},
   "source": [
    "#### Configure `ModelPredictedLabelConfig`"
   ]
  },
  {
   "cell_type": "markdown",
   "id": "9fe5ceb5-c6ea-4dd0-95e6-7629eb7a27d0",
   "metadata": {},
   "source": [
    "The [`ModelPredictedLabelConfig`](https://sagemaker.readthedocs.io/en/stable/api/training/processing.html?highlight=clarify#sagemaker.clarify.ModelPredictedLabelConfig) specifies how to extract your label from the model output."
   ]
  },
  {
   "cell_type": "code",
   "execution_count": 142,
   "id": "63ede42d-82d5-42bf-a673-18855b86e64a",
   "metadata": {},
   "outputs": [],
   "source": [
    "model_predicted_label_config = ModelPredictedLabelConfig(\n",
    "    probability_threshold=0.5,\n",
    ")"
   ]
  },
  {
   "cell_type": "markdown",
   "id": "64926e00-a282-4312-b0f6-16528d544b5b",
   "metadata": {},
   "source": [
    "#### Configure `ModelConfig`"
   ]
  },
  {
   "cell_type": "markdown",
   "id": "0f0bed78-b069-48b9-9f7d-dba522799ce2",
   "metadata": {},
   "source": [
    "The [`ModelConfig`](https://sagemaker.readthedocs.io/en/stable/api/training/processing.html?highlight=clarify#sagemaker.clarify.ModelConfig) provides context to the model baseline job about the model and deploymed model endpoint."
   ]
  },
  {
   "cell_type": "code",
   "execution_count": 143,
   "id": "5c11716f-f143-47d4-9b52-1afe94912f0f",
   "metadata": {},
   "outputs": [],
   "source": [
    "model_config = ModelConfig(\n",
    "    model_name=\"Model-gqHK8mt3zYu7\",\n",
    "    instance_count=endpoint_instance_count,\n",
    "    instance_type=endpoint_instance_type,\n",
    "    content_type=\"text/csv\",\n",
    "    accept_type=\"text/csv\",\n",
    ")"
   ]
  },
  {
   "cell_type": "markdown",
   "id": "34b33242-d0dd-4b30-bd1b-c9ff4df5c95f",
   "metadata": {},
   "source": [
    "### Run model bias baseline job"
   ]
  },
  {
   "cell_type": "markdown",
   "id": "681e56fe-df82-44f2-bab8-5ce21efef36f",
   "metadata": {},
   "source": [
    "Now you can execute the model bias baseline job, providing it the configs for your model, dataset, and bias definitions.\n",
    "\n",
    "Note: the model bias baseline job can take about 3-5 minutes and depends upon the facet selected to compute the bias metrics."
   ]
  },
  {
   "cell_type": "code",
   "execution_count": 144,
   "id": "213e00ad-65a8-4652-bcc4-9f91880bc907",
   "metadata": {},
   "outputs": [
    {
     "name": "stdout",
     "output_type": "stream",
     "text": [
      "\n",
      "Job Name:  baseline-suggestion-job-2022-09-01-16-43-32-050\n",
      "Inputs:  [{'InputName': 'dataset', 'AppManaged': False, 'S3Input': {'S3Uri': 's3://sagemaker-us-east-1-836443424694/baseline-suggestion-job-2022-09-01-16-43-32-050/input/dataset/train-headers.csv', 'LocalPath': '/opt/ml/processing/input/data', 'S3DataType': 'S3Prefix', 'S3InputMode': 'File', 'S3DataDistributionType': 'FullyReplicated', 'S3CompressionType': 'None'}}, {'InputName': 'analysis_config', 'AppManaged': False, 'S3Input': {'S3Uri': 's3://sagemaker-us-east-1-836443424694/sagemaker/xgboost-dm-model-monitoring/baselines/model_bias/analysis_config.json', 'LocalPath': '/opt/ml/processing/input/config', 'S3DataType': 'S3Prefix', 'S3InputMode': 'File', 'S3DataDistributionType': 'FullyReplicated', 'S3CompressionType': 'None'}}]\n",
      "Outputs:  [{'OutputName': 'analysis_result', 'AppManaged': False, 'S3Output': {'S3Uri': 's3://sagemaker-us-east-1-836443424694/sagemaker/xgboost-dm-model-monitoring/baselines/model_bias', 'LocalPath': '/opt/ml/processing/output', 'S3UploadMode': 'EndOfJob'}}]\n",
      "..................................................................................................*"
     ]
    },
    {
     "ename": "UnexpectedStatusException",
     "evalue": "Error for Processing job baseline-suggestion-job-2022-09-01-16-43-32-050: Failed. Reason: ClientError: No Label values are present in the predicted Label Column,Positive Predicted Index Series contains all False values",
     "output_type": "error",
     "traceback": [
      "\u001b[0;31m---------------------------------------------------------------------------\u001b[0m",
      "\u001b[0;31mUnexpectedStatusException\u001b[0m                 Traceback (most recent call last)",
      "\u001b[0;32m<ipython-input-144-4508a3e1c8f3>\u001b[0m in \u001b[0;36m<module>\u001b[0;34m\u001b[0m\n\u001b[1;32m      6\u001b[0m )\n\u001b[1;32m      7\u001b[0m \u001b[0;34m\u001b[0m\u001b[0m\n\u001b[0;32m----> 8\u001b[0;31m \u001b[0mmodel_bias_baseline_job\u001b[0m\u001b[0;34m.\u001b[0m\u001b[0mwait\u001b[0m\u001b[0;34m(\u001b[0m\u001b[0mlogs\u001b[0m\u001b[0;34m=\u001b[0m\u001b[0;32mFalse\u001b[0m\u001b[0;34m)\u001b[0m\u001b[0;34m\u001b[0m\u001b[0;34m\u001b[0m\u001b[0m\n\u001b[0m\u001b[1;32m      9\u001b[0m \u001b[0;34m\u001b[0m\u001b[0m\n\u001b[1;32m     10\u001b[0m \u001b[0mprint\u001b[0m\u001b[0;34m(\u001b[0m\u001b[0;34mf\"ModelBiasMonitor baselining job: {model_bias_monitor.latest_baselining_job_name}\"\u001b[0m\u001b[0;34m)\u001b[0m\u001b[0;34m\u001b[0m\u001b[0;34m\u001b[0m\u001b[0m\n",
      "\u001b[0;32m/opt/conda/lib/python3.7/site-packages/sagemaker/processing.py\u001b[0m in \u001b[0;36mwait\u001b[0;34m(self, logs)\u001b[0m\n\u001b[1;32m    975\u001b[0m             \u001b[0mself\u001b[0m\u001b[0;34m.\u001b[0m\u001b[0msagemaker_session\u001b[0m\u001b[0;34m.\u001b[0m\u001b[0mlogs_for_processing_job\u001b[0m\u001b[0;34m(\u001b[0m\u001b[0mself\u001b[0m\u001b[0;34m.\u001b[0m\u001b[0mjob_name\u001b[0m\u001b[0;34m,\u001b[0m \u001b[0mwait\u001b[0m\u001b[0;34m=\u001b[0m\u001b[0;32mTrue\u001b[0m\u001b[0;34m)\u001b[0m\u001b[0;34m\u001b[0m\u001b[0;34m\u001b[0m\u001b[0m\n\u001b[1;32m    976\u001b[0m         \u001b[0;32melse\u001b[0m\u001b[0;34m:\u001b[0m\u001b[0;34m\u001b[0m\u001b[0;34m\u001b[0m\u001b[0m\n\u001b[0;32m--> 977\u001b[0;31m             \u001b[0mself\u001b[0m\u001b[0;34m.\u001b[0m\u001b[0msagemaker_session\u001b[0m\u001b[0;34m.\u001b[0m\u001b[0mwait_for_processing_job\u001b[0m\u001b[0;34m(\u001b[0m\u001b[0mself\u001b[0m\u001b[0;34m.\u001b[0m\u001b[0mjob_name\u001b[0m\u001b[0;34m)\u001b[0m\u001b[0;34m\u001b[0m\u001b[0;34m\u001b[0m\u001b[0m\n\u001b[0m\u001b[1;32m    978\u001b[0m \u001b[0;34m\u001b[0m\u001b[0m\n\u001b[1;32m    979\u001b[0m     \u001b[0;32mdef\u001b[0m \u001b[0mdescribe\u001b[0m\u001b[0;34m(\u001b[0m\u001b[0mself\u001b[0m\u001b[0;34m)\u001b[0m\u001b[0;34m:\u001b[0m\u001b[0;34m\u001b[0m\u001b[0;34m\u001b[0m\u001b[0m\n",
      "\u001b[0;32m/opt/conda/lib/python3.7/site-packages/sagemaker/session.py\u001b[0m in \u001b[0;36mwait_for_processing_job\u001b[0;34m(self, job, poll)\u001b[0m\n\u001b[1;32m   3244\u001b[0m         \"\"\"\n\u001b[1;32m   3245\u001b[0m         \u001b[0mdesc\u001b[0m \u001b[0;34m=\u001b[0m \u001b[0m_wait_until\u001b[0m\u001b[0;34m(\u001b[0m\u001b[0;32mlambda\u001b[0m\u001b[0;34m:\u001b[0m \u001b[0m_processing_job_status\u001b[0m\u001b[0;34m(\u001b[0m\u001b[0mself\u001b[0m\u001b[0;34m.\u001b[0m\u001b[0msagemaker_client\u001b[0m\u001b[0;34m,\u001b[0m \u001b[0mjob\u001b[0m\u001b[0;34m)\u001b[0m\u001b[0;34m,\u001b[0m \u001b[0mpoll\u001b[0m\u001b[0;34m)\u001b[0m\u001b[0;34m\u001b[0m\u001b[0;34m\u001b[0m\u001b[0m\n\u001b[0;32m-> 3246\u001b[0;31m         \u001b[0mself\u001b[0m\u001b[0;34m.\u001b[0m\u001b[0m_check_job_status\u001b[0m\u001b[0;34m(\u001b[0m\u001b[0mjob\u001b[0m\u001b[0;34m,\u001b[0m \u001b[0mdesc\u001b[0m\u001b[0;34m,\u001b[0m \u001b[0;34m\"ProcessingJobStatus\"\u001b[0m\u001b[0;34m)\u001b[0m\u001b[0;34m\u001b[0m\u001b[0;34m\u001b[0m\u001b[0m\n\u001b[0m\u001b[1;32m   3247\u001b[0m         \u001b[0;32mreturn\u001b[0m \u001b[0mdesc\u001b[0m\u001b[0;34m\u001b[0m\u001b[0;34m\u001b[0m\u001b[0m\n\u001b[1;32m   3248\u001b[0m \u001b[0;34m\u001b[0m\u001b[0m\n",
      "\u001b[0;32m/opt/conda/lib/python3.7/site-packages/sagemaker/session.py\u001b[0m in \u001b[0;36m_check_job_status\u001b[0;34m(self, job, desc, status_key_name)\u001b[0m\n\u001b[1;32m   3390\u001b[0m                 \u001b[0mmessage\u001b[0m\u001b[0;34m=\u001b[0m\u001b[0mmessage\u001b[0m\u001b[0;34m,\u001b[0m\u001b[0;34m\u001b[0m\u001b[0;34m\u001b[0m\u001b[0m\n\u001b[1;32m   3391\u001b[0m                 \u001b[0mallowed_statuses\u001b[0m\u001b[0;34m=\u001b[0m\u001b[0;34m[\u001b[0m\u001b[0;34m\"Completed\"\u001b[0m\u001b[0;34m,\u001b[0m \u001b[0;34m\"Stopped\"\u001b[0m\u001b[0;34m]\u001b[0m\u001b[0;34m,\u001b[0m\u001b[0;34m\u001b[0m\u001b[0;34m\u001b[0m\u001b[0m\n\u001b[0;32m-> 3392\u001b[0;31m                 \u001b[0mactual_status\u001b[0m\u001b[0;34m=\u001b[0m\u001b[0mstatus\u001b[0m\u001b[0;34m,\u001b[0m\u001b[0;34m\u001b[0m\u001b[0;34m\u001b[0m\u001b[0m\n\u001b[0m\u001b[1;32m   3393\u001b[0m             )\n\u001b[1;32m   3394\u001b[0m \u001b[0;34m\u001b[0m\u001b[0m\n",
      "\u001b[0;31mUnexpectedStatusException\u001b[0m: Error for Processing job baseline-suggestion-job-2022-09-01-16-43-32-050: Failed. Reason: ClientError: No Label values are present in the predicted Label Column,Positive Predicted Index Series contains all False values"
     ]
    }
   ],
   "source": [
    "model_bias_baseline_job = model_bias_monitor.suggest_baseline(\n",
    "    model_config=model_config,\n",
    "    data_config=model_bias_data_config,\n",
    "    bias_config=model_bias_config,\n",
    "    model_predicted_label_config=model_predicted_label_config,\n",
    ")\n",
    "\n",
    "model_bias_baseline_job.wait(logs=False)\n",
    "\n",
    "print(f\"ModelBiasMonitor baselining job: {model_bias_monitor.latest_baselining_job_name}\")"
   ]
  },
  {
   "cell_type": "markdown",
   "id": "a5c47c1c-cc76-45cd-93d6-826d4237eb81",
   "metadata": {},
   "source": [
    "View the suggested model bias constraints."
   ]
  },
  {
   "cell_type": "code",
   "execution_count": null,
   "id": "93ac8328-e960-41aa-8a16-895bb32ce4b2",
   "metadata": {},
   "outputs": [],
   "source": [
    "model_bias_constraints = model_bias_monitor.suggested_constraints()\n",
    "\n",
    "print(f\"ModelBiasMonitor suggested constraints: {model_bias_constraints.file_s3_uri}\")\n",
    "\n",
    "print(S3Downloader.read_file(model_bias_constraints.file_s3_uri))"
   ]
  },
  {
   "cell_type": "markdown",
   "id": "5cbc8cb4-c4bc-4448-87fe-84e1e75b310f",
   "metadata": {},
   "source": [
    "### Schedule continuous model bias monitoring"
   ]
  },
  {
   "cell_type": "markdown",
   "id": "881fdb65-84d0-466d-887a-fead41be0cbc",
   "metadata": {},
   "source": [
    "Now that you have a baseline, you can call the `create_monitoring_schedule()` method to schedule an hourly monitor to analyze the data with a monitoring schedule. If you have submitted a baselining job, the monitor automatically picks up analysis configuration from the baselining job. If you skip the baselining step or the capture dataset has a different nature from the training dataset, you must provide the analysis configuration."
   ]
  },
  {
   "cell_type": "code",
   "execution_count": 79,
   "id": "8679696f-566f-440c-b67c-906d42411141",
   "metadata": {},
   "outputs": [
    {
     "name": "stdout",
     "output_type": "stream",
     "text": [
      "Model bias monitoring schedule: monitoring-schedule-2022-09-01-01-48-29-171\n"
     ]
    }
   ],
   "source": [
    "model_bias_analysis_config = None\n",
    "if not model_bias_monitor.latest_baselining_job:\n",
    "    model_bias_analysis_config = BiasAnalysisConfig(\n",
    "        model_bias_config,\n",
    "        headers=all_headers,\n",
    "        label=label_header,\n",
    "    )\n",
    "\n",
    "model_bias_monitor.create_monitoring_schedule(\n",
    "    analysis_config=model_bias_analysis_config,\n",
    "    output_s3_uri=s3_report_path,\n",
    "    endpoint_input=EndpointInput(\n",
    "        endpoint_name=endpoint_name,\n",
    "        destination=\"/opt/ml/processing/input/endpoint\",\n",
    "        start_time_offset=\"-PT1H\",\n",
    "        end_time_offset=\"-PT0H\",\n",
    "        probability_threshold_attribute=0.5,\n",
    "    ),\n",
    "    ground_truth_input=s3_ground_truth_upload_path,\n",
    "    schedule_cron_expression=CronExpressionGenerator.hourly(),\n",
    ")\n",
    "print(f\"Model bias monitoring schedule: {model_bias_monitor.monitoring_schedule_name}\")"
   ]
  },
  {
   "cell_type": "code",
   "execution_count": 80,
   "id": "c069eb48-39c8-447e-824e-926e0f177264",
   "metadata": {},
   "outputs": [
    {
     "data": {
      "text/plain": [
       "[<sagemaker.model_monitor.clarify_model_monitoring.ModelBiasMonitor at 0x7f1504275dd0>,\n",
       " <sagemaker.model_monitor.model_monitoring.ModelQualityMonitor at 0x7f1506bfaf90>,\n",
       " <sagemaker.model_monitor.model_monitoring.DefaultModelMonitor at 0x7f1507234d90>,\n",
       " <sagemaker.model_monitor.model_monitoring.DefaultModelMonitor at 0x7f1507579c50>]"
      ]
     },
     "execution_count": 80,
     "metadata": {},
     "output_type": "execute_result"
    }
   ],
   "source": [
    "# Check the model bias monitor is created.\n",
    "predictor.list_monitors()"
   ]
  },
  {
   "cell_type": "code",
   "execution_count": null,
   "id": "90afe7b1-daf8-42e1-87df-26006e9b9883",
   "metadata": {},
   "outputs": [],
   "source": [
    "# You will see the monitoring schedule in the 'Scheduled' status.\n",
    "model_bias_monitor.describe_schedule()"
   ]
  },
  {
   "cell_type": "code",
   "execution_count": null,
   "id": "66b9a179-30c3-4e15-89e3-09d1a97660b5",
   "metadata": {},
   "outputs": [],
   "source": [
    "# Initially there will be no executions since the first execution happens at the top of the hour\n",
    "# Note that it is common for the execution to launch up to 20 min after the hour.\n",
    "executions = model_bias_monitor.list_executions()\n",
    "executions[:5]"
   ]
  },
  {
   "cell_type": "markdown",
   "id": "63e34768-eaf2-4e35-a132-526cd8dee248",
   "metadata": {
    "tags": []
   },
   "source": [
    "## Monitor feature attribution drift"
   ]
  },
  {
   "cell_type": "markdown",
   "id": "631670d7-dec0-477e-bf10-3ac4865fc18f",
   "metadata": {},
   "source": [
    "Model explainability monitoring helps you understand and interpret the predictions made by your ML models. When Model Monitor is configured to monitor model explainability, Amazon SageMaker Clarify automatically detects any drift in relative importance of features and creates reports explaining feature attributions. Monitoring feature attributions can help inform model debugging and error analysis in order to take corrective actions in response to deteriorating model performance such as retraining.  As the model is monitored, customers can view exportable reports and graphs detailing feature attributions in SageMaker Studio and configure alerts in Amazon CloudWatch to receive notifications if it is detected that the attribution values drift beyond a certain threshold. In this section, you will walk through configuring a monitor, creating SHAP feature attribution baselines, and scheduling continuous feature attribution monitoring."
   ]
  },
  {
   "cell_type": "markdown",
   "id": "e7be6421-e1d6-4302-9841-86253b538a0b",
   "metadata": {},
   "source": [
    "### Define `ModelExplainabilityMonitor`"
   ]
  },
  {
   "cell_type": "markdown",
   "id": "24c4b861-c4a5-490d-8252-82a38c5cfd03",
   "metadata": {},
   "source": [
    "First, define a [`ModelExplainabilityMonitor`](https://sagemaker.readthedocs.io/en/stable/api/inference/model_monitor.html#sagemaker.model_monitor.clarify_model_monitoring.ModelExplainabilityMonitor) object."
   ]
  },
  {
   "cell_type": "code",
   "execution_count": 111,
   "id": "68b69ea6-33c5-4801-b766-6e325f38c771",
   "metadata": {},
   "outputs": [],
   "source": [
    "model_explainability_monitor = ModelExplainabilityMonitor(\n",
    "    role=role,\n",
    "    sagemaker_session=sagemaker_session,\n",
    "    max_runtime_in_seconds=1800,\n",
    ")"
   ]
  },
  {
   "cell_type": "markdown",
   "id": "b6ec1e11-6724-4cc5-825f-18cd92501fce",
   "metadata": {},
   "source": [
    "### Create an explainability baseline job"
   ]
  },
  {
   "cell_type": "markdown",
   "id": "bd7c9aa6-2dd9-4b4c-b9e1-b7f8dd7dd471",
   "metadata": {},
   "source": [
    "Just as you have with other monitors so far, you will configure and run a explainability job to suggest feature attribution baselines for use with your monitoring schedule."
   ]
  },
  {
   "cell_type": "markdown",
   "id": "2ad71e9b-2d44-49c5-9dfc-1cedbdab65e0",
   "metadata": {},
   "source": [
    "#### Define `DataConfig`"
   ]
  },
  {
   "cell_type": "markdown",
   "id": "934d4dad-8049-4b8f-8ee5-5f6bf80d8fe6",
   "metadata": {},
   "source": [
    "Create a [`DataConfig`](https://sagemaker.readthedocs.io/en/stable/api/training/processing.html?highlight=clarify#sagemaker.clarify.DataConfig) object related to configurations of the input and output dataset."
   ]
  },
  {
   "cell_type": "code",
   "execution_count": 120,
   "id": "a151c4da-2a25-4b87-ae36-9c0837f5b040",
   "metadata": {},
   "outputs": [],
   "source": [
    "model_explainability_baseline_job_result_uri = f\"{s3_baseline_results_path}/model-explainability\"\n",
    "\n",
    "model_explainability_data_config = DataConfig(\n",
    "    s3_data_input_path=\"train-headers.csv\",\n",
    "    s3_output_path=model_explainability_baseline_job_result_uri,\n",
    "    label=\"y_yes\",\n",
    "    headers=train_df.columns.to_list(),\n",
    "    dataset_type=\"text/csv\",\n",
    ")"
   ]
  },
  {
   "cell_type": "markdown",
   "id": "93a5c98a-bbaa-4f13-9af5-f327a93b0b92",
   "metadata": {},
   "source": [
    "#### Define Clarify `SHAPConfig` for feature attributions"
   ]
  },
  {
   "cell_type": "markdown",
   "id": "cc1db903-e3fb-49a8-b24e-015846e4fce8",
   "metadata": {},
   "source": [
    "Here you will define a [SHAPConfig](https://sagemaker.readthedocs.io/en/stable/api/training/processing.html?highlight=clarify#sagemaker.clarify.SHAPConfig) for computing feature attributions. Explanations are typically contrastive, that is, they account for deviations from a baseline. For information on explainability baselines, see [SHAP Baselines for Explainability](https://docs.aws.amazon.com/sagemaker/latest/dg/clarify-model-monitor-shap-baseline.html#:~:text=SHAP%20Baselines%20for%20Explainability)."
   ]
  },
  {
   "cell_type": "code",
   "execution_count": 126,
   "id": "5e0f2a49-dfbf-48fa-aef2-4b3dca80e04f",
   "metadata": {},
   "outputs": [],
   "source": [
    "# Here you can compute the feature baselines using the training set, making sure to remove the label.\n",
    "shap_baseline = [list(train_df.loc[:, train_df.columns != \"y_yes\"].mean())]\n",
    "\n",
    "shap_config = SHAPConfig(\n",
    "    baseline=shap_baseline,\n",
    "    num_samples=100,\n",
    "    agg_method=\"mean_abs\",\n",
    "    save_local_shap_values=False,\n",
    ")"
   ]
  },
  {
   "cell_type": "code",
   "execution_count": 127,
   "id": "474159d9-60bc-4ce1-84c6-5cafd9528534",
   "metadata": {},
   "outputs": [],
   "source": [
    "model_config = ModelConfig(\n",
    "    model_name=\"Model-gqHK8mt3zYu7\",\n",
    "    instance_count=endpoint_instance_count,\n",
    "    instance_type=endpoint_instance_type,\n",
    "    content_type=\"text/csv\",\n",
    "    accept_type=\"text/csv\",\n",
    ")"
   ]
  },
  {
   "cell_type": "markdown",
   "id": "76263cf7-fa0a-47c6-9ad1-c59ec1a94512",
   "metadata": {},
   "source": [
    "#### Run explainability baseline job"
   ]
  },
  {
   "cell_type": "markdown",
   "id": "74424e24-8fc9-4e78-bbf3-e515cc30b4df",
   "metadata": {},
   "source": [
    "Now run the explainability baseline job to [suggest feature attribution baselines](https://sagemaker.readthedocs.io/en/stable/api/inference/model_monitor.html#sagemaker.model_monitor.clarify_model_monitoring.ModelExplainabilityMonitor.suggest_baseline) using the configurations defined above.\n",
    "\n",
    "Note: this baseline job can take up to 5-8 min."
   ]
  },
  {
   "cell_type": "code",
   "execution_count": 135,
   "id": "28440701-45d8-46c8-a445-7156321b158e",
   "metadata": {},
   "outputs": [
    {
     "name": "stdout",
     "output_type": "stream",
     "text": [
      "\n",
      "Job Name:  ModelExplainabilityBaselineJob-2022-09-01-1543\n",
      "Inputs:  [{'InputName': 'dataset', 'AppManaged': False, 'S3Input': {'S3Uri': 's3://sagemaker-us-east-1-836443424694/ModelExplainabilityBaselineJob-2022-09-01-1543/input/dataset/train-headers.csv', 'LocalPath': '/opt/ml/processing/input/data', 'S3DataType': 'S3Prefix', 'S3InputMode': 'File', 'S3DataDistributionType': 'FullyReplicated', 'S3CompressionType': 'None'}}, {'InputName': 'analysis_config', 'AppManaged': False, 'S3Input': {'S3Uri': 's3://sagemaker-us-east-1-836443424694/sagemaker/xgboost-dm-model-monitoring/baselines/model-explainability/analysis_config.json', 'LocalPath': '/opt/ml/processing/input/config', 'S3DataType': 'S3Prefix', 'S3InputMode': 'File', 'S3DataDistributionType': 'FullyReplicated', 'S3CompressionType': 'None'}}]\n",
      "Outputs:  [{'OutputName': 'analysis_result', 'AppManaged': False, 'S3Output': {'S3Uri': 's3://sagemaker-us-east-1-836443424694/sagemaker/xgboost-dm-model-monitoring/baselines/model-explainability', 'LocalPath': '/opt/ml/processing/output', 'S3UploadMode': 'EndOfJob'}}]\n",
      "........................................................................................................................................................................................................................................................................................................................................................................................................!"
     ]
    }
   ],
   "source": [
    "model_quality_baseline_job_name = f\"ModelExplainabilityBaselineJob-{datetime.utcnow():%Y-%m-%d-%H%M}\"\n",
    "\n",
    "model_explainability_baseline_job = model_explainability_monitor.suggest_baseline(\n",
    "    job_name=model_quality_baseline_job_name,\n",
    "    data_config=model_explainability_data_config,\n",
    "    model_config=model_config,\n",
    "    explainability_config=shap_config,\n",
    ")\n",
    "\n",
    "model_explainability_baseline_job.wait(logs=False)"
   ]
  },
  {
   "cell_type": "markdown",
   "id": "f2187eb2-deaf-45e8-b229-cc79fdf4ffc7",
   "metadata": {},
   "source": [
    "View the output model explainability analysis."
   ]
  },
  {
   "cell_type": "code",
   "execution_count": 136,
   "id": "7bf3e246-110c-44bf-b975-bdd50f79fdd3",
   "metadata": {},
   "outputs": [
    {
     "name": "stdout",
     "output_type": "stream",
     "text": [
      "ModelExplainabilityMonitor suggested constraints: s3://sagemaker-us-east-1-836443424694/sagemaker/xgboost-dm-model-monitoring/baselines/model-explainability/analysis.json\n",
      "{\n",
      "    \"version\": \"1.0\",\n",
      "    \"explanations\": {\n",
      "        \"kernel_shap\": {\n",
      "            \"label0\": {\n",
      "                \"global_shap_values\": {\n",
      "                    \"age\": 0.00043747580441304984,\n",
      "                    \"campaign\": 7.445893741871094e-05,\n",
      "                    \"pdays\": 9.922329306070971e-05,\n",
      "                    \"previous\": 7.669170123699508e-05,\n",
      "                    \"no_previous_contact\": 9.217448527771758e-05,\n",
      "                    \"not_working\": 7.352784934097512e-05,\n",
      "                    \"job_admin\": 0.0001381603397243405,\n",
      "                    \"job_blue-collar\": 8.452694448509678e-05,\n",
      "                    \"job_technician\": 0.00010692617184483006,\n",
      "                    \"job_services\": 7.459190123434005e-05,\n",
      "                    \"job_management\": 7.532721410832243e-05,\n",
      "                    \"job_retired\": 7.586593535694722e-05,\n",
      "                    \"job_entrepreneur\": 7.527173468032313e-05,\n",
      "                    \"job_self-employed\": 8.681609676311701e-05,\n",
      "                    \"job_housekeeper\": 7.939471989281573e-05,\n",
      "                    \"job_unemployed\": 9.741025640683776e-05,\n",
      "                    \"job_student\": 7.537467938439258e-05,\n",
      "                    \"job_unknown\": 7.443177198519848e-05,\n",
      "                    \"marital_divorced\": 7.350018270459608e-05,\n",
      "                    \"marital_married\": 7.511056347345835e-05,\n",
      "                    \"marital_single\": 7.492358932561999e-05,\n",
      "                    \"marital_unknown\": 7.338163140227558e-05,\n",
      "                    \"education_basic_4y\": 7.487025177934525e-05,\n",
      "                    \"education_basic_6y\": 9.043280192752501e-05,\n",
      "                    \"education_basic_9y\": 7.51895185688439e-05,\n",
      "                    \"education_high_school\": 7.616784826192791e-05,\n",
      "                    \"education_illiterate\": 7.430264913925394e-05,\n",
      "                    \"education_professional_course\": 7.522174688772874e-05,\n",
      "                    \"education_university_degree\": 7.478198282004211e-05,\n",
      "                    \"education_unknown\": 8.45269946576374e-05,\n",
      "                    \"default_no\": 0.00010767224205453323,\n",
      "                    \"default_unknown\": 0.00016233848407090827,\n",
      "                    \"default_yes\": 7.47799951573813e-05,\n",
      "                    \"housing_no\": 7.363397572813989e-05,\n",
      "                    \"housing_unknown\": 7.814982052876508e-05,\n",
      "                    \"housing_yes\": 7.465445508464543e-05,\n",
      "                    \"loan_no\": 7.457471619525796e-05,\n",
      "                    \"loan_unknown\": 8.414578293678829e-05,\n",
      "                    \"loan_yes\": 7.422014228417614e-05,\n",
      "                    \"contact_cellular\": 7.421491571452641e-05,\n",
      "                    \"contact_telephone\": 0.00029710846092477846,\n",
      "                    \"month_apr\": 7.404722243407596e-05,\n",
      "                    \"month_aug\": 0.0001446021446194401,\n",
      "                    \"month_dec\": 7.416267968164606e-05,\n",
      "                    \"month_jul\": 0.0002869327773272758,\n",
      "                    \"month_jun\": 0.00020406021675885346,\n",
      "                    \"month_mar\": 8.807609702731683e-05,\n",
      "                    \"month_may\": 0.0006630603362093644,\n",
      "                    \"month_nov\": 0.00016721444605551897,\n",
      "                    \"month_oct\": 7.845397754465581e-05,\n",
      "                    \"month_sep\": 8.59829908165573e-05,\n",
      "                    \"day_of_week_fri\": 0.0004065877179132315,\n",
      "                    \"day_of_week_mon\": 7.595466434919641e-05,\n",
      "                    \"day_of_week_thu\": 0.00013487581951223974,\n",
      "                    \"day_of_week_tue\": 7.548687669159987e-05,\n",
      "                    \"day_of_week_wed\": 0.0003792504697947112,\n",
      "                    \"poutcome_failure\": 8.413695409207016e-05,\n",
      "                    \"poutcome_nonexistent\": 9.205814175485675e-05,\n",
      "                    \"poutcome_success\": 9.643924563642327e-05\n",
      "                },\n",
      "                \"expected_value\": 0.00346066290512681\n",
      "            }\n",
      "        }\n",
      "    }\n",
      "}\n"
     ]
    }
   ],
   "source": [
    "model_explainability_constraints = model_explainability_monitor.suggested_constraints()\n",
    "\n",
    "print(f\"ModelExplainabilityMonitor suggested constraints: {model_explainability_constraints.file_s3_uri}\")\n",
    "print(S3Downloader.read_file(model_explainability_constraints.file_s3_uri))"
   ]
  },
  {
   "cell_type": "markdown",
   "id": "58046c90-679a-4b39-86b8-a1fd593dc952",
   "metadata": {},
   "source": [
    "### Schedule continuous model explainability monitor"
   ]
  },
  {
   "cell_type": "markdown",
   "id": "5c8469ff-3428-456b-8892-74738e915dce",
   "metadata": {},
   "source": [
    "Lastly, you will create a feature attribution [monitoring schedule](https://sagemaker.readthedocs.io/en/stable/api/inference/model_monitor.html#sagemaker.model_monitor.clarify_model_monitoring.ModelExplainabilityMonitor.create_monitoring_schedule) to run hourly."
   ]
  },
  {
   "cell_type": "code",
   "execution_count": 137,
   "id": "631045c6-e2f2-4356-9a68-c160d87b41e4",
   "metadata": {},
   "outputs": [
    {
     "name": "stderr",
     "output_type": "stream",
     "text": [
      "It seems that this object was already used to create an Amazon Model Monitoring Schedule. To create another, first delete the existing one using my_monitor.delete_monitoring_schedule().\n"
     ]
    },
    {
     "ename": "ValueError",
     "evalue": "It seems that this object was already used to create an Amazon Model Monitoring Schedule. To create another, first delete the existing one using my_monitor.delete_monitoring_schedule().",
     "output_type": "error",
     "traceback": [
      "\u001b[0;31m---------------------------------------------------------------------------\u001b[0m",
      "\u001b[0;31mValueError\u001b[0m                                Traceback (most recent call last)",
      "\u001b[0;32m<ipython-input-137-c5006dd3e731>\u001b[0m in \u001b[0;36m<module>\u001b[0;34m\u001b[0m\n\u001b[1;32m      2\u001b[0m     \u001b[0moutput_s3_uri\u001b[0m\u001b[0;34m=\u001b[0m\u001b[0;34mf\"{s3_report_path}/model-explainability\"\u001b[0m\u001b[0;34m,\u001b[0m\u001b[0;34m\u001b[0m\u001b[0;34m\u001b[0m\u001b[0m\n\u001b[1;32m      3\u001b[0m     \u001b[0mendpoint_input\u001b[0m\u001b[0;34m=\u001b[0m\u001b[0mendpoint_name\u001b[0m\u001b[0;34m,\u001b[0m\u001b[0;34m\u001b[0m\u001b[0;34m\u001b[0m\u001b[0m\n\u001b[0;32m----> 4\u001b[0;31m     \u001b[0mschedule_cron_expression\u001b[0m\u001b[0;34m=\u001b[0m\u001b[0mCronExpressionGenerator\u001b[0m\u001b[0;34m.\u001b[0m\u001b[0mhourly\u001b[0m\u001b[0;34m(\u001b[0m\u001b[0;34m)\u001b[0m\u001b[0;34m,\u001b[0m\u001b[0;34m\u001b[0m\u001b[0;34m\u001b[0m\u001b[0m\n\u001b[0m\u001b[1;32m      5\u001b[0m )\n",
      "\u001b[0;32m/opt/conda/lib/python3.7/site-packages/sagemaker/model_monitor/clarify_model_monitoring.py\u001b[0m in \u001b[0;36mcreate_monitoring_schedule\u001b[0;34m(self, endpoint_input, analysis_config, output_s3_uri, constraints, monitor_schedule_name, schedule_cron_expression, enable_cloudwatch_metrics)\u001b[0m\n\u001b[1;32m    932\u001b[0m             )\n\u001b[1;32m    933\u001b[0m             \u001b[0m_LOGGER\u001b[0m\u001b[0;34m.\u001b[0m\u001b[0merror\u001b[0m\u001b[0;34m(\u001b[0m\u001b[0mmessage\u001b[0m\u001b[0;34m)\u001b[0m\u001b[0;34m\u001b[0m\u001b[0;34m\u001b[0m\u001b[0m\n\u001b[0;32m--> 934\u001b[0;31m             \u001b[0;32mraise\u001b[0m \u001b[0mValueError\u001b[0m\u001b[0;34m(\u001b[0m\u001b[0mmessage\u001b[0m\u001b[0;34m)\u001b[0m\u001b[0;34m\u001b[0m\u001b[0;34m\u001b[0m\u001b[0m\n\u001b[0m\u001b[1;32m    935\u001b[0m \u001b[0;34m\u001b[0m\u001b[0m\n\u001b[1;32m    936\u001b[0m         \u001b[0;31m# create job definition\u001b[0m\u001b[0;34m\u001b[0m\u001b[0;34m\u001b[0m\u001b[0;34m\u001b[0m\u001b[0m\n",
      "\u001b[0;31mValueError\u001b[0m: It seems that this object was already used to create an Amazon Model Monitoring Schedule. To create another, first delete the existing one using my_monitor.delete_monitoring_schedule()."
     ]
    }
   ],
   "source": [
    "response = model_explainability_monitor.create_monitoring_schedule(\n",
    "    output_s3_uri=f\"{s3_report_path}/model-explainability\",\n",
    "    endpoint_input=endpoint_name,\n",
    "    schedule_cron_expression=CronExpressionGenerator.hourly(),\n",
    ")"
   ]
  },
  {
   "cell_type": "code",
   "execution_count": 138,
   "id": "31dc477f-ff73-48d4-b3be-9037e541465c",
   "metadata": {},
   "outputs": [
    {
     "data": {
      "text/plain": [
       "[<sagemaker.model_monitor.clarify_model_monitoring.ModelExplainabilityMonitor at 0x7f1506cba0d0>,\n",
       " <sagemaker.model_monitor.clarify_model_monitoring.ModelBiasMonitor at 0x7f14f6ea3b50>,\n",
       " <sagemaker.model_monitor.model_monitoring.ModelQualityMonitor at 0x7f15041b2750>,\n",
       " <sagemaker.model_monitor.model_monitoring.DefaultModelMonitor at 0x7f15042811d0>,\n",
       " <sagemaker.model_monitor.model_monitoring.DefaultModelMonitor at 0x7f1507e04d90>]"
      ]
     },
     "execution_count": 138,
     "metadata": {},
     "output_type": "execute_result"
    }
   ],
   "source": [
    "# Check the model explainability monitor is created.\n",
    "predictor.list_monitors()"
   ]
  },
  {
   "cell_type": "code",
   "execution_count": 139,
   "id": "0722d0f3-b7cf-4523-bc1d-346edf0528ec",
   "metadata": {},
   "outputs": [
    {
     "data": {
      "text/plain": [
       "{'MonitoringScheduleArn': 'arn:aws:sagemaker:us-east-1:836443424694:monitoring-schedule/monitoring-schedule-2022-09-01-03-12-59-633',\n",
       " 'MonitoringScheduleName': 'monitoring-schedule-2022-09-01-03-12-59-633',\n",
       " 'MonitoringScheduleStatus': 'Scheduled',\n",
       " 'MonitoringType': 'ModelExplainability',\n",
       " 'CreationTime': datetime.datetime(2022, 9, 1, 3, 12, 59, 966000, tzinfo=tzlocal()),\n",
       " 'LastModifiedTime': datetime.datetime(2022, 9, 1, 16, 11, 57, 724000, tzinfo=tzlocal()),\n",
       " 'MonitoringScheduleConfig': {'ScheduleConfig': {'ScheduleExpression': 'cron(0 * ? * * *)'},\n",
       "  'MonitoringJobDefinitionName': 'model-explainability-job-definition-2022-09-01-03-12-59-633',\n",
       "  'MonitoringType': 'ModelExplainability'},\n",
       " 'EndpointName': 'workshop-project-prod',\n",
       " 'LastMonitoringExecutionSummary': {'MonitoringScheduleName': 'monitoring-schedule-2022-09-01-03-12-59-633',\n",
       "  'ScheduledTime': datetime.datetime(2022, 9, 1, 16, 0, tzinfo=tzlocal()),\n",
       "  'CreationTime': datetime.datetime(2022, 9, 1, 16, 9, 8, 446000, tzinfo=tzlocal()),\n",
       "  'LastModifiedTime': datetime.datetime(2022, 9, 1, 16, 11, 57, 710000, tzinfo=tzlocal()),\n",
       "  'MonitoringExecutionStatus': 'Failed',\n",
       "  'EndpointName': 'workshop-project-prod',\n",
       "  'FailureReason': 'No S3 objects found under S3 URL \"s3://sagemaker-us-east-1-836443424694/sagemaker/xgboost-dm-model-monitoring/data_capture/workshop-project-prod/AllTraffic/2022/09/01/15\" given in input data source. Please ensure that the bucket exists in the selected region (us-east-1), that objects exist under that S3 prefix, and that the role \"arn:aws:iam::836443424694:role/service-role/AmazonSageMaker-ExecutionRole-20220614T084208\" has \"s3:ListBucket\" permissions on bucket \"sagemaker-us-east-1-836443424694\".'},\n",
       " 'ResponseMetadata': {'RequestId': 'a70a5c60-5581-4735-8caa-b18f343b7bf5',\n",
       "  'HTTPStatusCode': 200,\n",
       "  'HTTPHeaders': {'x-amzn-requestid': 'a70a5c60-5581-4735-8caa-b18f343b7bf5',\n",
       "   'content-type': 'application/x-amz-json-1.1',\n",
       "   'content-length': '1411',\n",
       "   'date': 'Thu, 01 Sep 2022 16:22:45 GMT'},\n",
       "  'RetryAttempts': 0}}"
      ]
     },
     "execution_count": 139,
     "metadata": {},
     "output_type": "execute_result"
    }
   ],
   "source": [
    "# You will see the monitoring schedule in the 'Scheduled' status.\n",
    "model_explainability_monitor.describe_schedule()"
   ]
  },
  {
   "cell_type": "code",
   "execution_count": 140,
   "id": "d72309e7-204b-4d54-a604-6959b39f1b86",
   "metadata": {},
   "outputs": [
    {
     "data": {
      "text/plain": [
       "[]"
      ]
     },
     "execution_count": 140,
     "metadata": {},
     "output_type": "execute_result"
    }
   ],
   "source": [
    "# Initially there will be no executions since the first execution happens at the top of the hour\n",
    "# Note that it is common for the execution to launch up to 20 min after the hour.\n",
    "executions = model_explainability_monitor.list_executions()\n",
    "executions"
   ]
  },
  {
   "cell_type": "markdown",
   "id": "15753cfa-0311-45ea-8c49-c458f4492eea",
   "metadata": {
    "tags": []
   },
   "source": [
    "## Cleanup"
   ]
  },
  {
   "cell_type": "markdown",
   "id": "c7c23aae-5a87-425e-8cf1-f5a831c2975c",
   "metadata": {},
   "source": [
    "Well done! If you are finished with the notebook, run the following cells to terminate lab resources and prevent continued charges."
   ]
  },
  {
   "cell_type": "markdown",
   "id": "acfc1417-ba78-4eb1-9cb5-89e1e59459ea",
   "metadata": {},
   "source": [
    "First, stop the worker threads."
   ]
  },
  {
   "cell_type": "code",
   "execution_count": null,
   "id": "1ea88713-fa42-4c16-87e6-3f579a5aade2",
   "metadata": {},
   "outputs": [],
   "source": [
    "invoke_endpoint_thread.terminate()\n",
    "ground_truth_thread.terminate()"
   ]
  },
  {
   "cell_type": "markdown",
   "id": "d68ad424-8a74-4604-be1d-7ef40e85729c",
   "metadata": {},
   "source": [
    "Stop and then delete all monitors scheduled to the endpoint."
   ]
  },
  {
   "cell_type": "code",
   "execution_count": null,
   "id": "de94811e-7294-47c3-94b0-bdafe99e2f13",
   "metadata": {},
   "outputs": [],
   "source": [
    "model_monitors = predictor.list_monitors()\n",
    "\n",
    "for monitor in model_monitors:\n",
    "    monitor.stop_monitoring_schedule()\n",
    "    monitor.delete_monitoring_schedule()"
   ]
  },
  {
   "cell_type": "markdown",
   "id": "75242fc7-df70-47fa-b755-1640b266e5d0",
   "metadata": {},
   "source": [
    "Finally, delete the endpoint."
   ]
  },
  {
   "cell_type": "code",
   "execution_count": null,
   "id": "04634aba-45e4-484b-af5f-cb3854e5dff3",
   "metadata": {},
   "outputs": [],
   "source": [
    "predictor.delete_endpoint()\n",
    "predictor.delete_model()"
   ]
  }
 ],
 "metadata": {
  "instance_type": "ml.t3.medium",
  "kernelspec": {
   "display_name": "Python 3 (Data Science)",
   "language": "python",
   "name": "python3__SAGEMAKER_INTERNAL__arn:aws:sagemaker:us-east-1:081325390199:image/datascience-1.0"
  },
  "language_info": {
   "codemirror_mode": {
    "name": "ipython",
    "version": 3
   },
   "file_extension": ".py",
   "mimetype": "text/x-python",
   "name": "python",
   "nbconvert_exporter": "python",
   "pygments_lexer": "ipython3",
   "version": "3.7.10"
  }
 },
 "nbformat": 4,
 "nbformat_minor": 5
}
