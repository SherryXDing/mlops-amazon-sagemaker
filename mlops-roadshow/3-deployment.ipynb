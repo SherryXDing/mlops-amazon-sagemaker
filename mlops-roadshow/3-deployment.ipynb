{
 "cells": [
  {
   "cell_type": "markdown",
   "id": "c4951298",
   "metadata": {},
   "source": [
    "#  MLOps Manual to Repeatable Workflow\n",
    "\n",
    "<div class=\"alert alert-warning\"> \n",
    "\t⚠️ <strong> PRE-REQUISITE: </strong> Before proceeding with this notebook, please ensure that you have executed the <code>1-data-prep-feature-store.ipynb</code> and <code>2-training-registry.ipynb</code> Notebooks</li>\n",
    "</div>"
   ]
  },
  {
   "cell_type": "markdown",
   "id": "3dfbe6eb",
   "metadata": {},
   "source": [
    "## Contents\n",
    "\n",
    "- [Introduction](#Introduction)\n",
    "- [SageMaker Endpoint](#SageMaker-Endpoint)"
   ]
  },
  {
   "cell_type": "markdown",
   "id": "0a98def2",
   "metadata": {},
   "source": [
    "## Introduction"
   ]
  },
  {
   "cell_type": "markdown",
   "id": "a257cefa",
   "metadata": {},
   "source": [
    "This is our third notebook which will explore the model deployment of ML workflow.\n",
    "\n",
    "Here, we will put on the hat of a `Data Scientist` and will perform the task of model deployment which includes fetching the right model and deploying it for inference.  \n",
    "\n",
    "For this task we will be using Amazon SageMaker Model Hosting capabilities.\n",
    "\n",
    "Let's get started!"
   ]
  },
  {
   "cell_type": "markdown",
   "id": "41947de1",
   "metadata": {},
   "source": [
    "**Imports**"
   ]
  },
  {
   "cell_type": "code",
   "execution_count": null,
   "id": "7e2a46c1-6678-4823-973f-cca006c4cb68",
   "metadata": {},
   "outputs": [],
   "source": [
    "!pip install -U sagemaker"
   ]
  },
  {
   "cell_type": "code",
   "execution_count": null,
   "id": "bae19c34",
   "metadata": {},
   "outputs": [],
   "source": [
    "%store -r"
   ]
  },
  {
   "cell_type": "code",
   "execution_count": null,
   "id": "b22c1dcc",
   "metadata": {},
   "outputs": [],
   "source": [
    "from urllib.parse import urlparse\n",
    "import io\n",
    "import time\n",
    "from sagemaker.model import ModelPackage\n",
    "import boto3\n",
    "import sagemaker\n",
    "from sagemaker.predictor import Predictor\n",
    "from sagemaker.serializers import CSVSerializer\n",
    "from sagemaker.deserializers import JSONDeserializer\n",
    "import numpy as np\n",
    "import pathlib\n",
    "from sagemaker.feature_store.feature_group import FeatureGroup"
   ]
  },
  {
   "cell_type": "markdown",
   "id": "11961781",
   "metadata": {},
   "source": [
    "**Session variables**"
   ]
  },
  {
   "cell_type": "code",
   "execution_count": null,
   "id": "8bfbcdea",
   "metadata": {},
   "outputs": [],
   "source": [
    "# Useful SageMaker variables\n",
    "sagemaker_session = sagemaker.Session()\n",
    "bucket = sagemaker_session.default_bucket()\n",
    "role_arn= sagemaker.get_execution_role()\n",
    "region = sagemaker_session.boto_region_name\n",
    "s3_client = boto3.client('s3', region_name=region)\n",
    "sagemaker_client = boto3.client('sagemaker')"
   ]
  },
  {
   "cell_type": "markdown",
   "id": "daf97a72",
   "metadata": {},
   "source": [
    "## SageMaker Endpoint"
   ]
  },
  {
   "cell_type": "markdown",
   "id": "ee7e0311",
   "metadata": {},
   "source": [
    "You can also deploy your trained model as [SageMaker hosted endpoint](https://docs.aws.amazon.com/sagemaker/latest/dg/realtime-endpoints-deployment.html) which serves real-time predictions from a trained model. The endpoint will retrieve the model created during training and deploy it within a SageMaker scikit-learn container. This all can be accomplished with one line of code. Note that it will take several minutes to deploy the model to a hosted endpoint."
   ]
  },
  {
   "cell_type": "markdown",
   "id": "cec73129",
   "metadata": {},
   "source": [
    "Let's get the model we registered in the Model Registry."
   ]
  },
  {
   "cell_type": "code",
   "execution_count": null,
   "id": "08dc5b23",
   "metadata": {},
   "outputs": [],
   "source": [
    "random_forest_regressor_model = ModelPackage(\n",
    "    role_arn,\n",
    "    model_package_arn=model_package_arn,\n",
    "    name=model_name\n",
    ")"
   ]
  },
  {
   "cell_type": "markdown",
   "id": "e48950b6",
   "metadata": {},
   "source": [
    "It's current status is `PendingApproval`. In order to use this model for offline predictions or as a real-time endpoint, we'll need to update its status to `Approved`."
   ]
  },
  {
   "cell_type": "code",
   "execution_count": null,
   "id": "5f59cda7",
   "metadata": {},
   "outputs": [],
   "source": [
    "sagemaker_client.update_model_package(\n",
    "    ModelPackageArn=random_forest_regressor_model.model_package_arn,\n",
    "    ModelApprovalStatus='Approved'\n",
    ")"
   ]
  },
  {
   "cell_type": "markdown",
   "id": "a63cd197",
   "metadata": {},
   "source": [
    "Now we can deploy it!"
   ]
  },
  {
   "cell_type": "code",
   "execution_count": null,
   "id": "111cc788",
   "metadata": {},
   "outputs": [],
   "source": [
    "from IPython.core.display import display, HTML\n",
    "endpoint_name = f'{model_name}-endpoint-' + time.strftime('%Y-%m-%d-%H-%M-%S')\n",
    "display(\n",
    "    HTML(\n",
    "        '<b>Review <a target=\"blank\" href=\"https://console.aws.amazon.com/sagemaker/home?region={}#/endpoints/{}\">The Endpoint</a> After About 5 Minutes</b>'.format(\n",
    "            region, endpoint_name\n",
    "        )\n",
    "    )\n",
    ")\n",
    "random_forest_regressor_model.deploy(\n",
    "    initial_instance_count=1,\n",
    "    instance_type='ml.t2.medium',\n",
    "    endpoint_name=endpoint_name\n",
    ")"
   ]
  },
  {
   "cell_type": "markdown",
   "id": "7ca391a2",
   "metadata": {},
   "source": [
    "Let's test this real-time endpoint by passing it some data and getting a real-time prediction back."
   ]
  },
  {
   "cell_type": "markdown",
   "id": "ac24133e-bce0-4e9b-b746-b111420804af",
   "metadata": {},
   "source": [
    "## Read from offline Feature Store"
   ]
  },
  {
   "cell_type": "code",
   "execution_count": null,
   "id": "a1f9a445",
   "metadata": {},
   "outputs": [],
   "source": [
    "# Read in test set that was used for batch transform\n",
    "fs_group = FeatureGroup(name=test_feature_group_name, sagemaker_session=sagemaker_session)  \n",
    "query = fs_group.athena_query()\n",
    "table = query.table_name\n",
    "query_string = f'SELECT {features_to_select} FROM \"sagemaker_featurestore\".\"{table}\"  ORDER BY record_id'\n",
    "query_results = 'sagemaker-featurestore'\n",
    "output_location = f's3://{bucket}/{query_results}/query_results/'\n",
    "query.run(\n",
    "    query_string=query_string, \n",
    "    output_location=output_location\n",
    ")\n",
    "query.wait()\n",
    "df = query.as_dataframe()\n",
    "df.head()"
   ]
  },
  {
   "cell_type": "code",
   "execution_count": null,
   "id": "f60adce3-4add-41d2-8591-c29cd7e90304",
   "metadata": {
    "tags": []
   },
   "outputs": [],
   "source": [
    "# Attach to the SageMaker endpoint\n",
    "predictor = Predictor(\n",
    "    endpoint_name=f'{model_name}-endpoint',\n",
    "    sagemaker_session=sagemaker_session,\n",
    "    serializer=CSVSerializer(),\n",
    "    deserializer=JSONDeserializer()\n",
    ")\n",
    "\n",
    "# Get a real-time prediction\n",
    "predictor.predict(df.drop(columns=[\"price\"]).to_csv(index=False, header=False))"
   ]
  },
  {
   "cell_type": "markdown",
   "id": "5fd746c1-7765-4cd4-8f11-d9c90537713d",
   "metadata": {},
   "source": [
    "## Read from online Feature Store"
   ]
  },
  {
   "cell_type": "code",
   "execution_count": null,
   "id": "be340790-af60-4edd-a8ee-825b7e17a635",
   "metadata": {},
   "outputs": [],
   "source": [
    "boto_session = boto3.Session()\n",
    "featurestore_runtime = boto_session.client(service_name='sagemaker-featurestore-runtime')"
   ]
  },
  {
   "cell_type": "markdown",
   "id": "8ec7dc23-4f14-4e95-a2c7-b51f46e4ddc5",
   "metadata": {},
   "source": [
    "### Helper functions to read from online Feature Store"
   ]
  },
  {
   "cell_type": "code",
   "execution_count": null,
   "id": "5963ad16-9933-4a39-9fef-a58892e745e3",
   "metadata": {},
   "outputs": [],
   "source": [
    "def _record_to_dict(rec, feature_types):\n",
    "    tmp_dict = {}\n",
    "    for f in rec:\n",
    "        feature_name = f['FeatureName']\n",
    "        string_feature_val = f['ValueAsString']\n",
    "        feature_type = feature_types[feature_name]\n",
    "        \n",
    "        if feature_type == 'Integral':\n",
    "            tmp_dict[f['FeatureName']] = int(string_feature_val)\n",
    "        elif feature_type == 'Fractional':\n",
    "            tmp_dict[f['FeatureName']] = float(string_feature_val)\n",
    "        else:\n",
    "            tmp_dict[f['FeatureName']] = string_feature_val\n",
    "\n",
    "    return tmp_dict\n",
    "\n",
    "\n",
    "def get_feature_definitions(fg_name):\n",
    "    fgdescription = sagemaker_client.describe_feature_group(FeatureGroupName=fg_name)    \n",
    "    return fgdescription \n",
    "\n",
    "def get_online_feature_group_records(fg_name, id_value_list):\n",
    "    feature_defs = get_feature_definitions(fg_name)['FeatureDefinitions']\n",
    "    feature_types = {}\n",
    "    feature_names = []\n",
    "    for fd in feature_defs:\n",
    "        feature_names.append(fd['FeatureName'])\n",
    "        feature_types[fd['FeatureName']] = fd['FeatureType']\n",
    "        \n",
    "    results = []\n",
    "    \n",
    "    identifiers = []\n",
    "    ids_list = []\n",
    "    for curr_id in id_value_list:\n",
    "        record_identifier_value = str(curr_id)\n",
    "        ids_list.append(record_identifier_value)\n",
    "    \n",
    "    identifiers.append({'FeatureGroupName': fg_name,\n",
    "                        'RecordIdentifiersValueAsString': ids_list,\n",
    "                        'FeatureNames': feature_names})\n",
    "        \n",
    "    resp = featurestore_runtime.batch_get_record(Identifiers=identifiers)\n",
    "    \n",
    "    for rec_dict in resp['Records']:\n",
    "        results.append(_record_to_dict(rec_dict['Record'], feature_types))\n",
    "\n",
    "    return results\n",
    "\n",
    "def get_number_of_products_in_feature_set(dict):\n",
    "    record_count = 0\n",
    "    for i in enumerate(dict):\n",
    "        record_count += 1\n",
    "    return record_count"
   ]
  },
  {
   "cell_type": "code",
   "execution_count": null,
   "id": "d526375b-c18c-42b4-9876-6502c5f447db",
   "metadata": {},
   "outputs": [],
   "source": [
    "customer_record = get_online_feature_group_records(test_feature_group_name, ['1'])"
   ]
  },
  {
   "cell_type": "code",
   "execution_count": null,
   "id": "a710e265-17e3-48c3-a3fc-8b1d91c7cfa7",
   "metadata": {},
   "outputs": [],
   "source": [
    "record = customer_record[0]"
   ]
  },
  {
   "cell_type": "code",
   "execution_count": null,
   "id": "979cb775-1a4d-4f7b-ac3a-891421b31cb5",
   "metadata": {},
   "outputs": [],
   "source": [
    "record.pop('PRICE')\n",
    "record.pop('event_time')\n",
    "record.pop('record_id')"
   ]
  },
  {
   "cell_type": "code",
   "execution_count": null,
   "id": "2232e0a4-7fbf-4e84-ab48-ee2b605471a4",
   "metadata": {},
   "outputs": [],
   "source": [
    "payload = \",\".join(str(record[key]) for key in customer_record[0])"
   ]
  },
  {
   "cell_type": "code",
   "execution_count": null,
   "id": "05c83202-f48d-4956-9cfe-236e6e8ad53e",
   "metadata": {},
   "outputs": [],
   "source": [
    "payload"
   ]
  },
  {
   "cell_type": "code",
   "execution_count": null,
   "id": "20e6efd8",
   "metadata": {},
   "outputs": [],
   "source": [
    "predictor.predict(payload)"
   ]
  }
 ],
 "metadata": {
  "instance_type": "ml.t3.medium",
  "kernelspec": {
   "display_name": "Python 3 (Data Science)",
   "language": "python",
   "name": "python3__SAGEMAKER_INTERNAL__arn:aws:sagemaker:us-east-2:429704687514:image/datascience-1.0"
  },
  "language_info": {
   "codemirror_mode": {
    "name": "ipython",
    "version": 3
   },
   "file_extension": ".py",
   "mimetype": "text/x-python",
   "name": "python",
   "nbconvert_exporter": "python",
   "pygments_lexer": "ipython3",
   "version": "3.7.10"
  }
 },
 "nbformat": 4,
 "nbformat_minor": 5
}
